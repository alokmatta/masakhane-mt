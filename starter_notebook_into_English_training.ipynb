{
 "cells": [
  {
   "cell_type": "markdown",
   "metadata": {
    "id": "Igc5itf-xMGj"
   },
   "source": [
    "# Masakhane - Reverse Machine Translation for African Languages (Using JoeyNMT)"
   ]
  },
  {
   "cell_type": "markdown",
   "metadata": {},
   "source": [
    "> ## NB\n",
    ">### - The purpose of this Notebook is to build models that translate African languages(target language) *into* English(source language). This will allow us to in future be able to make translations from one African language to the other. If you'd like to translate *from* English, please use [this](https://github.com/masakhane-io/masakhane-mt/blob/master/starter_notebook.ipynb) starter notebook instead.\n",
    "\n",
    ">### - We call this reverse training because normally we build models that make translations from the source language(English) to the target language. But in this case we are doing the reverse; building models that make translations from the target language to the source(English)"
   ]
  },
  {
   "cell_type": "markdown",
   "metadata": {
    "id": "x4fXCKCf36IK"
   },
   "source": [
    "## Note before beginning:\n",
    "### - The idea is that you should be able to make minimal changes to this in order to get SOME result for your own translation corpus. \n",
    "\n",
    "### - The tl;dr: Go to the **\"TODO\"** comments which will tell you what to update to get up and running\n",
    "\n",
    "### - If you actually want to have a clue what you're doing, read the text and peek at the links\n",
    "\n",
    "### - With 100 epochs, it should take around 7 hours to run in Google Colab\n",
    "\n",
    "### - Once you've gotten a result for your language, please attach and email your notebook that generated it to masakhanetranslation@gmail.com\n",
    "\n",
    "### - If you care enough and get a chance, doing a brief background on your language would be amazing. See examples in  [(Martinus, 2019)](https://arxiv.org/abs/1906.05685)"
   ]
  },
  {
   "cell_type": "markdown",
   "metadata": {
    "id": "l929HimrxS0a"
   },
   "source": [
    "## Retrieve your data & make a parallel corpus\n",
    "\n",
    "If you are wanting to use the JW300 data referenced on the Masakhane website or in our GitHub repo, you can use `opus-tools` to convert the data into a convenient format. `opus_read` from that package provides a convenient tool for reading the native aligned XML files and to convert them to TMX format. The tool can also be used to fetch relevant files from OPUS on the fly and to filter the data as necessary. [Read the documentation](https://pypi.org/project/opustools-pkg/) for more details.\n",
    "\n",
    "Once you have your corpus files in TMX format (an xml structure which will include the sentences in your target language and your source language in a single file), we recommend reading them into a pandas dataframe. Thankfully, Jade wrote a silly `tmx2dataframe` package which converts your tmx file to a pandas dataframe. "
   ]
  },
  {
   "cell_type": "code",
   "execution_count": null,
   "metadata": {
    "colab": {
     "base_uri": "https://localhost:8080/",
     "height": 34
    },
    "id": "oGRmDELn7Az0",
    "outputId": "807c3318-4a3e-483b-fed0-142c2b9f926a"
   },
   "outputs": [
    {
     "name": "stdout",
     "output_type": "stream",
     "text": [
      "Drive already mounted at /content/drive; to attempt to forcibly remount, call drive.mount(\"/content/drive\", force_remount=True).\n"
     ]
    }
   ],
   "source": [
    "from google.colab import drive\n",
    "drive.mount('/content/drive')"
   ]
  },
  {
   "cell_type": "code",
   "execution_count": 1,
   "metadata": {
    "id": "Cn3tgQLzUxwn"
   },
   "outputs": [],
   "source": [
    "# TODO: Set your source and target languages. Keep in mind, these traditionally use language codes as found here:\n",
    "# These will also become the suffix's of all vocab and corpus files used throughout\n",
    "import os\n",
    "source_language = \"sw\"\n",
    "target_language = \"en\" \n",
    "lc = False  # If True, lowercase the data.\n",
    "seed = 42  # Random seed for shuffling.\n",
    "tag = \"baseline\" # Give a unique name to your folder - this is to ensure you don't rewrite any models you've already submitted\n",
    "\n",
    "os.environ[\"src\"] = source_language # Sets them in bash as well, since we often use bash scripts\n",
    "os.environ[\"tgt\"] = target_language\n",
    "os.environ[\"tag\"] = tag\n",
    "\n",
    "# This will save it to a folder in our gdrive instead!\n",
    "!mkdir -p \"/workspace/nlp/masakhane/$src-$tgt-$tag\"\n",
    "os.environ[\"gdrive_path\"] = \"/workspace/nlp/masakhane/%s-%s-%s\" % (source_language, target_language, tag)"
   ]
  },
  {
   "cell_type": "code",
   "execution_count": 2,
   "metadata": {
    "colab": {
     "base_uri": "https://localhost:8080/",
     "height": 34
    },
    "id": "kBSgJHEw7Nvx",
    "outputId": "3bdb0703-874f-4d53-e5b2-7802a937720b"
   },
   "outputs": [
    {
     "name": "stdout",
     "output_type": "stream",
     "text": [
      "/workspace/nlp/masakhane/sw-en-baseline\n"
     ]
    }
   ],
   "source": [
    "!echo $gdrive_path"
   ]
  },
  {
   "cell_type": "code",
   "execution_count": 3,
   "metadata": {
    "colab": {
     "base_uri": "https://localhost:8080/",
     "height": 34
    },
    "id": "gA75Fs9ys8Y9",
    "outputId": "e415db4b-66fe-4785-b80f-6e375809c1bf"
   },
   "outputs": [
    {
     "name": "stdout",
     "output_type": "stream",
     "text": [
      "Requirement already satisfied: opustools-pkg in /opt/conda/lib/python3.7/site-packages (0.0.52)\n",
      "\u001b[33mWARNING: You are using pip version 20.3.1; however, version 20.3.3 is available.\n",
      "You should consider upgrading via the '/opt/conda/bin/python3.7 -m pip install --upgrade pip' command.\u001b[0m\n"
     ]
    }
   ],
   "source": [
    "# Install opus-tools\n",
    "! pip install opustools-pkg"
   ]
  },
  {
   "cell_type": "code",
   "execution_count": 4,
   "metadata": {
    "colab": {
     "base_uri": "https://localhost:8080/",
     "height": 208
    },
    "id": "xq-tDZVks7ZD",
    "outputId": "c19ee6c0-e652-486c-a1fd-0c5fd265b204"
   },
   "outputs": [
    {
     "name": "stdout",
     "output_type": "stream",
     "text": [
      "\n",
      "Alignment file /proj/nlpl/data/OPUS/JW300/latest/xml/en-sw.xml.gz not found. The following files are available for downloading:\n",
      "\n",
      "        ./JW300_latest_xml_en.zip already exists\n",
      "        ./JW300_latest_xml_sw.zip already exists\n",
      "   8 MB https://object.pouta.csc.fi/OPUS-JW300/v1/xml/en-sw.xml.gz\n",
      "\n",
      "   8 MB Total size\n",
      "./JW300_latest_xml_en-sw.xml.gz ... 100% of 8 MB\n",
      "gzip: JW300_latest_xml_sw-en.xml.gz: No such file or directory\n"
     ]
    }
   ],
   "source": [
    "# Downloading our corpus\n",
    "! opus_read -d JW300 -s $src -t $tgt -wm moses -w jw300.$src jw300.$tgt -q\n",
    "\n",
    "# extract the corpus file\n",
    "! gunzip JW300_latest_xml_$src-$tgt.xml.gz"
   ]
  },
  {
   "cell_type": "code",
   "execution_count": 7,
   "metadata": {
    "colab": {
     "base_uri": "https://localhost:8080/",
     "height": 590
    },
    "id": "n48GDRnP8y2G",
    "outputId": "e27c546b-8b90-43c3-9123-738d3473f12a"
   },
   "outputs": [
    {
     "name": "stdout",
     "output_type": "stream",
     "text": [
      "--2021-01-21 13:24:05--  https://raw.githubusercontent.com/juliakreutzer/masakhane/master/jw300_utils/test/test.en-any.en\n",
      "Resolving raw.githubusercontent.com (raw.githubusercontent.com)... 151.101.36.133\n",
      "Connecting to raw.githubusercontent.com (raw.githubusercontent.com)|151.101.36.133|:443... connected.\n",
      "HTTP request sent, awaiting response... 200 OK\n",
      "Length: 277791 (271K) [text/plain]\n",
      "Saving to: ‘test.en-any.en.2’\n",
      "\n",
      "test.en-any.en.2    100%[===================>] 271.28K  --.-KB/s    in 0.02s   \n",
      "\n",
      "2021-01-21 13:24:06 (11.2 MB/s) - ‘test.en-any.en.2’ saved [277791/277791]\n",
      "\n",
      "--2021-01-21 13:24:07--  https://raw.githubusercontent.com/juliakreutzer/masakhane/master/jw300_utils/test/test.en-en.en\n",
      "Resolving raw.githubusercontent.com (raw.githubusercontent.com)... 151.101.36.133\n",
      "Connecting to raw.githubusercontent.com (raw.githubusercontent.com)|151.101.36.133|:443... connected.\n",
      "HTTP request sent, awaiting response... 404 Not Found\n",
      "2021-01-21 13:24:07 ERROR 404: Not Found.\n",
      "\n",
      "mv: cannot stat 'test.en-en.en': No such file or directory\n",
      "--2021-01-21 13:24:09--  https://raw.githubusercontent.com/juliakreutzer/masakhane/master/jw300_utils/test/test.en-en.en\n",
      "Resolving raw.githubusercontent.com (raw.githubusercontent.com)... 151.101.36.133\n",
      "Connecting to raw.githubusercontent.com (raw.githubusercontent.com)|151.101.36.133|:443... connected.\n",
      "HTTP request sent, awaiting response... 404 Not Found\n",
      "2021-01-21 13:24:09 ERROR 404: Not Found.\n",
      "\n",
      "mv: cannot stat 'test.en-en.en': No such file or directory\n"
     ]
    }
   ],
   "source": [
    "# Download the global test set.\n",
    "! wget https://raw.githubusercontent.com/juliakreutzer/masakhane/master/jw300_utils/test/test.en-any.en\n",
    "  \n",
    "# And the specific test set for this language pair.\n",
    "os.environ[\"src\"] = source_language \n",
    "os.environ[\"trg\"] = target_language \n",
    "\n",
    "\n",
    "! wget https://raw.githubusercontent.com/juliakreutzer/masakhane/master/jw300_utils/test/test.en-$trg.en \n",
    "! mv test.en-$trg.en test.en\n",
    "! wget https://raw.githubusercontent.com/juliakreutzer/masakhane/master/jw300_utils/test/test.en-$trg.$trg \n",
    "! mv test.en-$trg.$trg test.$trg"
   ]
  },
  {
   "cell_type": "code",
   "execution_count": 6,
   "metadata": {},
   "outputs": [
    {
     "name": "stdout",
     "output_type": "stream",
     "text": [
      "979527 jw300.sw\n",
      "979527 jw300.en\n",
      "==> jw300.sw <==\n",
      "“ Tazama !\n",
      "Mimi Ninafanya Vitu Vyote Kuwa Vipya ”\n",
      "Iliyopo juu ni ahadi itokayo kwa Mungu ambayo imechaguliwa iwe kichwa cha broshua yenye kuvuvia tumaini .\n",
      "Ahadi hiyo yamaanisha nini kwetu ?\n",
      "Itatimizwa jinsi gani , na wakati gani ?\n",
      "Pata kujua kwa kusoma kichapo hiki cha kurasa 32 kilicho na picha za kupendeza . Kwa Kshs .\n",
      "18.00 ( Tshs . 90.00 ; RWF 90 ) , utapelekewa broshua hiyo , pamoja na broshua Serikali Itakayoleta Paradiso na Furahia Milele Maisha Duniani !\n",
      "Tafadhali mnipelekee zile broshua tatu “ Tazama !\n",
      "Mimi Ninafanya Vitu Vyote Kuwa Vipya , ” Serikali Itakayoleta Paradiso , na Furahia Milele Maisha Duniani !\n",
      "Mimi nawapelekea nyinyi Kshs .\n",
      "\n",
      "==> jw300.sw.tok <==\n",
      "“ Tazama !\n",
      "Mimi Ninafanya Vitu Vyote Kuwa Vipya ”\n",
      "Iliyopo juu ni ahadi itokayo kwa Mungu ambayo imechaguliwa iwe kichwa cha broshua yenye kuvuvia tumaini .\n",
      "Ahadi hiyo yamaanisha nini kwetu ?\n",
      "Itatimizwa jinsi gani , na wakati gani ?\n",
      "Pata kujua kwa kusoma kichapo hiki cha kurasa 32 kilicho na picha za kupendeza . Kwa Kshs .\n",
      "18.00 ( Tshs . 90.00 ; RWF 90 ) , utapelekewa broshua hiyo , pamoja na broshua Serikali Itakayoleta Paradiso na Furahia Milele Maisha Duniani !\n",
      "Tafadhali mnipelekee zile broshua tatu “ Tazama !\n",
      "Mimi Ninafanya Vitu Vyote Kuwa Vipya , ” Serikali Itakayoleta Paradiso , na Furahia Milele Maisha Duniani !\n",
      "Mimi nawapelekea nyinyi Kshs .\n",
      "==> jw300.en <==\n",
      "“ Look !\n",
      "I Am Making All Things New ”\n",
      "The above is a promise from God that has been adopted as the title of an inspiring brochure .\n",
      "What does that promise mean for us ?\n",
      "How will it be fulfilled , and when ?\n",
      "Find out by reading this colorful , 32 - page publication .\n",
      "For only $ 1 , it will be sent to you , along with the brochures The Government That Will Bring Paradise and Enjoy Life on Earth Forever !\n",
      "Please send , postpaid , the three brochures “ Look !\n",
      "I Am Making All Things New , ” The Government That Will Bring Paradise , and Enjoy Life on Earth Forever !\n",
      "\n",
      "\n",
      "==> jw300.en.tok <==\n",
      "“ Look !\n",
      "I Am Making All Things New ”\n",
      "The above is a promise from God that has been adopted as the title of an inspiring brochure .\n",
      "What does that promise mean for us ?\n",
      "How will it be fulfilled , and when ?\n",
      "Find out by reading this colorful , 32 - page publication .\n",
      "For only $ 1 , it will be sent to you , along with the brochures The Government That Will Bring Paradise and Enjoy Life on Earth Forever !\n",
      "Please send , postpaid , the three brochures “ Look !\n",
      "I Am Making All Things New , ” The Government That Will Bring Paradise , and Enjoy Life on Earth Forever !\n",
      "\n"
     ]
    }
   ],
   "source": [
    "source_file = \"jw300.\"+source_language\n",
    "target_file = \"jw300.\"+target_language\n",
    "\n",
    "# They should both have the same length.\n",
    "! wc -l \"$source_file\"\n",
    "! wc -l \"$target_file\"\n",
    "tok_source_file = source_file+\".tok\"\n",
    "tok_target_file = target_file+\".tok\"\n",
    "\n",
    "# Tokenize the source\n",
    "! sacremoses -l \"$source_language\" tokenize < \"$source_file\" > \"$tok_source_file\"\n",
    "# Tokenize the target\n",
    "! sacremoses -l \"$target_language\" tokenize < \"$target_file\" > \"$tok_target_file\"\n",
    "\n",
    "# Let's take a look what tokenization did to the text.\n",
    "! head \"$source_file\"*\n",
    "! head \"$target_file\"*\n",
    "\n",
    "# Change the pointers to our files such that we continue to work with the tokenized data.\n",
    "source_file = tok_source_file\n",
    "target_file = tok_target_file"
   ]
  },
  {
   "cell_type": "code",
   "execution_count": null,
   "metadata": {},
   "outputs": [],
   "source": []
  },
  {
   "cell_type": "code",
   "execution_count": 8,
   "metadata": {
    "colab": {
     "base_uri": "https://localhost:8080/",
     "height": 34
    },
    "id": "NqDG-CI28y2L",
    "outputId": "20dc514e-b0d4-4c53-c492-705e42fbbe7c"
   },
   "outputs": [
    {
     "name": "stdout",
     "output_type": "stream",
     "text": [
      "Loaded 3571 global test sentences to filter from the training/dev data.\n"
     ]
    }
   ],
   "source": [
    "# Read the test data to filter from train and dev splits.\n",
    "# Store english portion in set for quick filtering checks.\n",
    "en_test_sents = set()\n",
    "filter_test_sents = \"test.en-any.en\"\n",
    "j = 0\n",
    "with open(filter_test_sents) as f:\n",
    "  for line in f:\n",
    "    en_test_sents.add(line.strip())\n",
    "    j += 1\n",
    "print('Loaded {} global test sentences to filter from the training/dev data.'.format(j))"
   ]
  },
  {
   "cell_type": "code",
   "execution_count": 9,
   "metadata": {
    "colab": {
     "base_uri": "https://localhost:8080/",
     "height": 161
    },
    "id": "3CNdwLBCfSIl",
    "outputId": "fc8f80b7-2f12-4f4b-ca94-3eb0258de6ee"
   },
   "outputs": [
    {
     "name": "stdout",
     "output_type": "stream",
     "text": [
      "Loaded data and skipped 1276/979526 lines since contained in test set.\n"
     ]
    },
    {
     "data": {
      "text/html": [
       "<div>\n",
       "<style scoped>\n",
       "    .dataframe tbody tr th:only-of-type {\n",
       "        vertical-align: middle;\n",
       "    }\n",
       "\n",
       "    .dataframe tbody tr th {\n",
       "        vertical-align: top;\n",
       "    }\n",
       "\n",
       "    .dataframe thead th {\n",
       "        text-align: right;\n",
       "    }\n",
       "</style>\n",
       "<table border=\"1\" class=\"dataframe\">\n",
       "  <thead>\n",
       "    <tr style=\"text-align: right;\">\n",
       "      <th></th>\n",
       "      <th>source_sentence</th>\n",
       "      <th>target_sentence</th>\n",
       "    </tr>\n",
       "  </thead>\n",
       "  <tbody>\n",
       "    <tr>\n",
       "      <th>0</th>\n",
       "      <td>“ Tazama !</td>\n",
       "      <td>“ Look !</td>\n",
       "    </tr>\n",
       "    <tr>\n",
       "      <th>1</th>\n",
       "      <td>Mimi Ninafanya Vitu Vyote Kuwa Vipya ”</td>\n",
       "      <td>I Am Making All Things New ”</td>\n",
       "    </tr>\n",
       "    <tr>\n",
       "      <th>2</th>\n",
       "      <td>Iliyopo juu ni ahadi itokayo kwa Mungu ambayo ...</td>\n",
       "      <td>The above is a promise from God that has been ...</td>\n",
       "    </tr>\n",
       "  </tbody>\n",
       "</table>\n",
       "</div>"
      ],
      "text/plain": [
       "                                     source_sentence  \\\n",
       "0                                         “ Tazama !   \n",
       "1             Mimi Ninafanya Vitu Vyote Kuwa Vipya ”   \n",
       "2  Iliyopo juu ni ahadi itokayo kwa Mungu ambayo ...   \n",
       "\n",
       "                                     target_sentence  \n",
       "0                                           “ Look !  \n",
       "1                       I Am Making All Things New ”  \n",
       "2  The above is a promise from God that has been ...  "
      ]
     },
     "execution_count": 9,
     "metadata": {},
     "output_type": "execute_result"
    }
   ],
   "source": [
    "import pandas as pd\n",
    "\n",
    "# TMX file to dataframe\n",
    "source_file = 'jw300.' + source_language\n",
    "target_file = 'jw300.' + target_language\n",
    "\n",
    "source = []\n",
    "target = []\n",
    "skip_lines = []  # Collect the line numbers of the source portion to skip the same lines for the target portion.\n",
    "with open(source_file) as f:\n",
    "    for i, line in enumerate(f):\n",
    "        # Skip sentences that are contained in the test set.\n",
    "        if line.strip() not in en_test_sents:\n",
    "            source.append(line.strip())\n",
    "        else:\n",
    "            skip_lines.append(i)             \n",
    "with open(target_file) as f:\n",
    "    for j, line in enumerate(f):\n",
    "        # Only add to corpus if corresponding source was not skipped.\n",
    "        if j not in skip_lines:\n",
    "            target.append(line.strip())\n",
    "    \n",
    "print('Loaded data and skipped {}/{} lines since contained in test set.'.format(len(skip_lines), i))\n",
    "    \n",
    "df = pd.DataFrame(zip(source, target), columns=['source_sentence', 'target_sentence'])\n",
    "# if you get TypeError: data argument can't be an iterator is because of your zip version run this below\n",
    "#df = pd.DataFrame(list(zip(source, target)), columns=['source_sentence', 'target_sentence'])\n",
    "df.head(3)"
   ]
  },
  {
   "cell_type": "markdown",
   "metadata": {
    "id": "YkuK3B4p2AkN"
   },
   "source": [
    "## Pre-processing and export\n",
    "\n",
    "It is generally a good idea to remove duplicate translations and conflicting translations from the corpus. In practice, these public corpora include some number of these that need to be cleaned.\n",
    "\n",
    "In addition we will split our data into dev/test/train and export to the filesystem."
   ]
  },
  {
   "cell_type": "code",
   "execution_count": 10,
   "metadata": {},
   "outputs": [],
   "source": [
    "df.to_csv(\"en_sw_pairs.csv\", index=False)"
   ]
  },
  {
   "cell_type": "markdown",
   "metadata": {},
   "source": [
    "Todo: Add FB XNLI pairs - https://docs.google.com/spreadsheets/d/1C_-4F3d5eRFwT0prtt-gt_-5TH27q0g-WN6O0PJIbys/edit?usp=sharing"
   ]
  },
  {
   "cell_type": "code",
   "execution_count": 11,
   "metadata": {},
   "outputs": [
    {
     "data": {
      "text/plain": [
       "978251"
      ]
     },
     "execution_count": 11,
     "metadata": {},
     "output_type": "execute_result"
    }
   ],
   "source": [
    "import pandas as pd\n",
    "df = pd.read_csv(\"en_sw_pairs.csv\")\n",
    "len(df)\n"
   ]
  },
  {
   "cell_type": "code",
   "execution_count": 12,
   "metadata": {},
   "outputs": [
    {
     "data": {
      "text/html": [
       "<div>\n",
       "<style scoped>\n",
       "    .dataframe tbody tr th:only-of-type {\n",
       "        vertical-align: middle;\n",
       "    }\n",
       "\n",
       "    .dataframe tbody tr th {\n",
       "        vertical-align: top;\n",
       "    }\n",
       "\n",
       "    .dataframe thead th {\n",
       "        text-align: right;\n",
       "    }\n",
       "</style>\n",
       "<table border=\"1\" class=\"dataframe\">\n",
       "  <thead>\n",
       "    <tr style=\"text-align: right;\">\n",
       "      <th></th>\n",
       "      <th>source_sentence</th>\n",
       "      <th>target_sentence</th>\n",
       "    </tr>\n",
       "  </thead>\n",
       "  <tbody>\n",
       "    <tr>\n",
       "      <th>0</th>\n",
       "      <td>“ Tazama !</td>\n",
       "      <td>“ Look !</td>\n",
       "    </tr>\n",
       "    <tr>\n",
       "      <th>1</th>\n",
       "      <td>Mimi Ninafanya Vitu Vyote Kuwa Vipya ”</td>\n",
       "      <td>I Am Making All Things New ”</td>\n",
       "    </tr>\n",
       "    <tr>\n",
       "      <th>2</th>\n",
       "      <td>Iliyopo juu ni ahadi itokayo kwa Mungu ambayo ...</td>\n",
       "      <td>The above is a promise from God that has been ...</td>\n",
       "    </tr>\n",
       "    <tr>\n",
       "      <th>3</th>\n",
       "      <td>Ahadi hiyo yamaanisha nini kwetu ?</td>\n",
       "      <td>What does that promise mean for us ?</td>\n",
       "    </tr>\n",
       "    <tr>\n",
       "      <th>4</th>\n",
       "      <td>Itatimizwa jinsi gani , na wakati gani ?</td>\n",
       "      <td>How will it be fulfilled , and when ?</td>\n",
       "    </tr>\n",
       "    <tr>\n",
       "      <th>...</th>\n",
       "      <td>...</td>\n",
       "      <td>...</td>\n",
       "    </tr>\n",
       "    <tr>\n",
       "      <th>978246</th>\n",
       "      <td>Miongoni mwao ni wahubiri wa kizazi cha tatu c...</td>\n",
       "      <td>Among these publishers today are third - gener...</td>\n",
       "    </tr>\n",
       "    <tr>\n",
       "      <th>978247</th>\n",
       "      <td>Tunamshukuru Yehova na ndugu na dada hao waami...</td>\n",
       "      <td>We give thanks to Jehovah and to those early f...</td>\n",
       "    </tr>\n",
       "    <tr>\n",
       "      <th>978248</th>\n",
       "      <td>15 : 15 , 16 . — Hifadhi yetu ya vitu vya kale...</td>\n",
       "      <td>15 : 15 , 16 . ​ — From our archives in Portug...</td>\n",
       "    </tr>\n",
       "    <tr>\n",
       "      <th>978249</th>\n",
       "      <td>Tazama makala yenye kichwa , “ Kuna Kazi Zaidi...</td>\n",
       "      <td>See “ There Is More Harvest Work to Be Done ” ...</td>\n",
       "    </tr>\n",
       "    <tr>\n",
       "      <th>978250</th>\n",
       "      <td>31 - 32 .</td>\n",
       "      <td>31 - 32 .</td>\n",
       "    </tr>\n",
       "  </tbody>\n",
       "</table>\n",
       "<p>978251 rows × 2 columns</p>\n",
       "</div>"
      ],
      "text/plain": [
       "                                          source_sentence  \\\n",
       "0                                              “ Tazama !   \n",
       "1                  Mimi Ninafanya Vitu Vyote Kuwa Vipya ”   \n",
       "2       Iliyopo juu ni ahadi itokayo kwa Mungu ambayo ...   \n",
       "3                      Ahadi hiyo yamaanisha nini kwetu ?   \n",
       "4                Itatimizwa jinsi gani , na wakati gani ?   \n",
       "...                                                   ...   \n",
       "978246  Miongoni mwao ni wahubiri wa kizazi cha tatu c...   \n",
       "978247  Tunamshukuru Yehova na ndugu na dada hao waami...   \n",
       "978248  15 : 15 , 16 . — Hifadhi yetu ya vitu vya kale...   \n",
       "978249  Tazama makala yenye kichwa , “ Kuna Kazi Zaidi...   \n",
       "978250                                          31 - 32 .   \n",
       "\n",
       "                                          target_sentence  \n",
       "0                                                “ Look !  \n",
       "1                            I Am Making All Things New ”  \n",
       "2       The above is a promise from God that has been ...  \n",
       "3                    What does that promise mean for us ?  \n",
       "4                   How will it be fulfilled , and when ?  \n",
       "...                                                   ...  \n",
       "978246  Among these publishers today are third - gener...  \n",
       "978247  We give thanks to Jehovah and to those early f...  \n",
       "978248  15 : 15 , 16 . ​ — From our archives in Portug...  \n",
       "978249  See “ There Is More Harvest Work to Be Done ” ...  \n",
       "978250                                          31 - 32 .  \n",
       "\n",
       "[978251 rows x 2 columns]"
      ]
     },
     "execution_count": 12,
     "metadata": {},
     "output_type": "execute_result"
    }
   ],
   "source": [
    "df"
   ]
  },
  {
   "cell_type": "code",
   "execution_count": 13,
   "metadata": {},
   "outputs": [],
   "source": [
    "df['source_sentence'] = df['source_sentence'].str.replace('\\d+', '')\n",
    "df['source_sentence'] = df['source_sentence'].str.replace('*', '')\n",
    "df['source_sentence'] = df['source_sentence'].str.replace('!', '')\n",
    "df['source_sentence'] = df['source_sentence'].str.replace(':', '')\n",
    "df['source_sentence'] = df['source_sentence'].str.replace(';', '')\n",
    "df['source_sentence'] = df['source_sentence'].str.replace('  ', '')\n",
    "df['source_sentence'] = df['source_sentence'].str.rstrip('\\ ')\n",
    "df['source_sentence'] = df['source_sentence'].str.rstrip('\\\"')\n",
    "df['source_sentence'] = df['source_sentence'].str.rstrip('\\.')\n",
    "\n",
    "df['target_sentence'] = df['target_sentence'].str.replace('\\d+', '')\n",
    "df['target_sentence'] = df['target_sentence'].str.replace('*', '')\n",
    "df['target_sentence'] = df['target_sentence'].str.replace('!', '')\n",
    "df['target_sentence'] = df['target_sentence'].str.replace(':', '')\n",
    "df['target_sentence'] = df['target_sentence'].str.replace(';', '')\n",
    "df['target_sentence'] = df['target_sentence'].str.replace('  ', '')\n",
    "df['target_sentence'] = df['target_sentence'].str.rstrip('\\ ')\n",
    "df['target_sentence'] = df['target_sentence'].str.rstrip('\\\"')\n",
    "df['target_sentence'] = df['target_sentence'].str.rstrip('\\.')"
   ]
  },
  {
   "cell_type": "code",
   "execution_count": 14,
   "metadata": {},
   "outputs": [
    {
     "data": {
      "text/plain": [
       "978251"
      ]
     },
     "execution_count": 14,
     "metadata": {},
     "output_type": "execute_result"
    }
   ],
   "source": [
    "df['length'] = df['source_sentence'].str.len()\n",
    "df.sort_values('length', ascending=True, inplace=True)\n",
    "len(df)"
   ]
  },
  {
   "cell_type": "code",
   "execution_count": 15,
   "metadata": {},
   "outputs": [
    {
     "data": {
      "text/plain": [
       "930876"
      ]
     },
     "execution_count": 15,
     "metadata": {},
     "output_type": "execute_result"
    }
   ],
   "source": [
    "df2 = df[df.length > 11]\n",
    "len(df2)"
   ]
  },
  {
   "cell_type": "code",
   "execution_count": 16,
   "metadata": {},
   "outputs": [
    {
     "name": "stderr",
     "output_type": "stream",
     "text": [
      "/opt/conda/lib/python3.7/site-packages/ipykernel_launcher.py:1: SettingWithCopyWarning: \n",
      "A value is trying to be set on a copy of a slice from a DataFrame.\n",
      "Try using .loc[row_indexer,col_indexer] = value instead\n",
      "\n",
      "See the caveats in the documentation: https://pandas.pydata.org/pandas-docs/stable/user_guide/indexing.html#returning-a-view-versus-a-copy\n",
      "  \"\"\"Entry point for launching an IPython kernel.\n",
      "/opt/conda/lib/python3.7/site-packages/ipykernel_launcher.py:2: SettingWithCopyWarning: \n",
      "A value is trying to be set on a copy of a slice from a DataFrame\n",
      "\n",
      "See the caveats in the documentation: https://pandas.pydata.org/pandas-docs/stable/user_guide/indexing.html#returning-a-view-versus-a-copy\n",
      "  \n"
     ]
    }
   ],
   "source": [
    "df2['length'] = df2['target_sentence'].str.len()\n",
    "df2.sort_values('length', ascending=True, inplace=True)"
   ]
  },
  {
   "cell_type": "code",
   "execution_count": 17,
   "metadata": {},
   "outputs": [
    {
     "data": {
      "text/plain": [
       "917728"
      ]
     },
     "execution_count": 17,
     "metadata": {},
     "output_type": "execute_result"
    }
   ],
   "source": [
    "df3 = df2[df2.length > 11]\n",
    "len(df3)"
   ]
  },
  {
   "cell_type": "code",
   "execution_count": 18,
   "metadata": {},
   "outputs": [
    {
     "data": {
      "text/html": [
       "<div>\n",
       "<style scoped>\n",
       "    .dataframe tbody tr th:only-of-type {\n",
       "        vertical-align: middle;\n",
       "    }\n",
       "\n",
       "    .dataframe tbody tr th {\n",
       "        vertical-align: top;\n",
       "    }\n",
       "\n",
       "    .dataframe thead th {\n",
       "        text-align: right;\n",
       "    }\n",
       "</style>\n",
       "<table border=\"1\" class=\"dataframe\">\n",
       "  <thead>\n",
       "    <tr style=\"text-align: right;\">\n",
       "      <th></th>\n",
       "      <th>source_sentence</th>\n",
       "      <th>target_sentence</th>\n",
       "      <th>length</th>\n",
       "    </tr>\n",
       "  </thead>\n",
       "  <tbody>\n",
       "    <tr>\n",
       "      <th>729760</th>\n",
       "      <td>[ Maelezo ya Chini ]</td>\n",
       "      <td>[ Footnote ]</td>\n",
       "      <td>12.0</td>\n",
       "    </tr>\n",
       "    <tr>\n",
       "      <th>305784</th>\n",
       "      <td>Kupanda au Kuteremka ?</td>\n",
       "      <td>Up or Down ?</td>\n",
       "      <td>12.0</td>\n",
       "    </tr>\n",
       "    <tr>\n",
       "      <th>388177</th>\n",
       "      <td>Kunahusisha nini ?</td>\n",
       "      <td>What is it ?</td>\n",
       "      <td>12.0</td>\n",
       "    </tr>\n",
       "    <tr>\n",
       "      <th>298318</th>\n",
       "      <td>Ndiyo , ni muhimu</td>\n",
       "      <td>Yes , it is</td>\n",
       "      <td>12.0</td>\n",
       "    </tr>\n",
       "    <tr>\n",
       "      <th>366227</th>\n",
       "      <td>Márquez ) ,/</td>\n",
       "      <td>Várguez ) ,/</td>\n",
       "      <td>12.0</td>\n",
       "    </tr>\n",
       "    <tr>\n",
       "      <th>...</th>\n",
       "      <td>...</td>\n",
       "      <td>...</td>\n",
       "      <td>...</td>\n",
       "    </tr>\n",
       "    <tr>\n",
       "      <th>611738</th>\n",
       "      <td>“ Watekelezaji wa Neno la Mungu ” Mahali pa M...</td>\n",
       "      <td>“ Doers of God’s Word ” District Convention L...</td>\n",
       "      <td>16720.0</td>\n",
       "    </tr>\n",
       "    <tr>\n",
       "      <th>506639</th>\n",
       "      <td>Njooni Kwenye “ Wasifaji Wenye Shangwe ” Mkusa...</td>\n",
       "      <td>Come to the “ Joyful Praisers ” District Conve...</td>\n",
       "      <td>16919.0</td>\n",
       "    </tr>\n",
       "    <tr>\n",
       "      <th>527710</th>\n",
       "      <td>“ Wajumbe wa Amani ya Kimungu ” Mahali pa Mik...</td>\n",
       "      <td>“ Messengers of Godly Peace ” District Conven...</td>\n",
       "      <td>17066.0</td>\n",
       "    </tr>\n",
       "    <tr>\n",
       "      <th>106352</th>\n",
       "      <td>Karibuni Kwenye “ WAJUMBE WA AMANI YA KIMUNGU ...</td>\n",
       "      <td>Welcome to the “ Messengers of Godly Peace ” D...</td>\n",
       "      <td>17484.0</td>\n",
       "    </tr>\n",
       "    <tr>\n",
       "      <th>590466</th>\n",
       "      <td>Mahali pa “ Neno la Mungu la Kiunabii ” Mikusa...</td>\n",
       "      <td>“ God’s Prophetic Word ” District Convention ...</td>\n",
       "      <td>18009.0</td>\n",
       "    </tr>\n",
       "  </tbody>\n",
       "</table>\n",
       "<p>917728 rows × 3 columns</p>\n",
       "</div>"
      ],
      "text/plain": [
       "                                          source_sentence  \\\n",
       "729760                               [ Maelezo ya Chini ]   \n",
       "305784                             Kupanda au Kuteremka ?   \n",
       "388177                                 Kunahusisha nini ?   \n",
       "298318                                 Ndiyo , ni muhimu    \n",
       "366227                                       Márquez ) ,/   \n",
       "...                                                   ...   \n",
       "611738   “ Watekelezaji wa Neno la Mungu ” Mahali pa M...   \n",
       "506639  Njooni Kwenye “ Wasifaji Wenye Shangwe ” Mkusa...   \n",
       "527710   “ Wajumbe wa Amani ya Kimungu ” Mahali pa Mik...   \n",
       "106352  Karibuni Kwenye “ WAJUMBE WA AMANI YA KIMUNGU ...   \n",
       "590466  Mahali pa “ Neno la Mungu la Kiunabii ” Mikusa...   \n",
       "\n",
       "                                          target_sentence   length  \n",
       "729760                                       [ Footnote ]     12.0  \n",
       "305784                                       Up or Down ?     12.0  \n",
       "388177                                       What is it ?     12.0  \n",
       "298318                                       Yes , it is      12.0  \n",
       "366227                                       Várguez ) ,/     12.0  \n",
       "...                                                   ...      ...  \n",
       "611738   “ Doers of God’s Word ” District Convention L...  16720.0  \n",
       "506639  Come to the “ Joyful Praisers ” District Conve...  16919.0  \n",
       "527710   “ Messengers of Godly Peace ” District Conven...  17066.0  \n",
       "106352  Welcome to the “ Messengers of Godly Peace ” D...  17484.0  \n",
       "590466   “ God’s Prophetic Word ” District Convention ...  18009.0  \n",
       "\n",
       "[917728 rows x 3 columns]"
      ]
     },
     "execution_count": 18,
     "metadata": {},
     "output_type": "execute_result"
    }
   ],
   "source": [
    "df3"
   ]
  },
  {
   "cell_type": "code",
   "execution_count": 19,
   "metadata": {},
   "outputs": [],
   "source": [
    "df3.to_csv('en_sw_pairs_ordered.csv',index=False)"
   ]
  },
  {
   "cell_type": "code",
   "execution_count": 20,
   "metadata": {},
   "outputs": [
    {
     "data": {
      "text/plain": [
       "917728"
      ]
     },
     "execution_count": 20,
     "metadata": {},
     "output_type": "execute_result"
    }
   ],
   "source": [
    "import pandas as pd\n",
    "df = pd.read_csv(\"en_sw_pairs_ordered.csv\")\n",
    "len(df)"
   ]
  },
  {
   "cell_type": "code",
   "execution_count": 21,
   "metadata": {
    "tags": [
     "outputPrepend"
    ]
   },
   "outputs": [
    {
     "data": {
      "text/html": [
       "<div>\n",
       "<style scoped>\n",
       "    .dataframe tbody tr th:only-of-type {\n",
       "        vertical-align: middle;\n",
       "    }\n",
       "\n",
       "    .dataframe tbody tr th {\n",
       "        vertical-align: top;\n",
       "    }\n",
       "\n",
       "    .dataframe thead th {\n",
       "        text-align: right;\n",
       "    }\n",
       "</style>\n",
       "<table border=\"1\" class=\"dataframe\">\n",
       "  <thead>\n",
       "    <tr style=\"text-align: right;\">\n",
       "      <th></th>\n",
       "      <th>source_sentence</th>\n",
       "      <th>target_sentence</th>\n",
       "      <th>length</th>\n",
       "    </tr>\n",
       "  </thead>\n",
       "  <tbody>\n",
       "    <tr>\n",
       "      <th>0</th>\n",
       "      <td>[ Maelezo ya Chini ]</td>\n",
       "      <td>[ Footnote ]</td>\n",
       "      <td>12.0</td>\n",
       "    </tr>\n",
       "    <tr>\n",
       "      <th>1</th>\n",
       "      <td>Kupanda au Kuteremka ?</td>\n",
       "      <td>Up or Down ?</td>\n",
       "      <td>12.0</td>\n",
       "    </tr>\n",
       "    <tr>\n",
       "      <th>2</th>\n",
       "      <td>Kunahusisha nini ?</td>\n",
       "      <td>What is it ?</td>\n",
       "      <td>12.0</td>\n",
       "    </tr>\n",
       "    <tr>\n",
       "      <th>3</th>\n",
       "      <td>Ndiyo , ni muhimu</td>\n",
       "      <td>Yes , it is</td>\n",
       "      <td>12.0</td>\n",
       "    </tr>\n",
       "    <tr>\n",
       "      <th>4</th>\n",
       "      <td>Márquez ) ,/</td>\n",
       "      <td>Várguez ) ,/</td>\n",
       "      <td>12.0</td>\n",
       "    </tr>\n",
       "    <tr>\n",
       "      <th>...</th>\n",
       "      <td>...</td>\n",
       "      <td>...</td>\n",
       "      <td>...</td>\n",
       "    </tr>\n",
       "    <tr>\n",
       "      <th>917723</th>\n",
       "      <td>“ Watekelezaji wa Neno la Mungu ” Mahali pa M...</td>\n",
       "      <td>“ Doers of God’s Word ” District Convention L...</td>\n",
       "      <td>16720.0</td>\n",
       "    </tr>\n",
       "    <tr>\n",
       "      <th>917724</th>\n",
       "      <td>Njooni Kwenye “ Wasifaji Wenye Shangwe ” Mkusa...</td>\n",
       "      <td>Come to the “ Joyful Praisers ” District Conve...</td>\n",
       "      <td>16919.0</td>\n",
       "    </tr>\n",
       "    <tr>\n",
       "      <th>917725</th>\n",
       "      <td>“ Wajumbe wa Amani ya Kimungu ” Mahali pa Mik...</td>\n",
       "      <td>“ Messengers of Godly Peace ” District Conven...</td>\n",
       "      <td>17066.0</td>\n",
       "    </tr>\n",
       "    <tr>\n",
       "      <th>917726</th>\n",
       "      <td>Karibuni Kwenye “ WAJUMBE WA AMANI YA KIMUNGU ...</td>\n",
       "      <td>Welcome to the “ Messengers of Godly Peace ” D...</td>\n",
       "      <td>17484.0</td>\n",
       "    </tr>\n",
       "    <tr>\n",
       "      <th>917727</th>\n",
       "      <td>Mahali pa “ Neno la Mungu la Kiunabii ” Mikusa...</td>\n",
       "      <td>“ God’s Prophetic Word ” District Convention ...</td>\n",
       "      <td>18009.0</td>\n",
       "    </tr>\n",
       "  </tbody>\n",
       "</table>\n",
       "<p>917728 rows × 3 columns</p>\n",
       "</div>"
      ],
      "text/plain": [
       "                                          source_sentence  \\\n",
       "0                                    [ Maelezo ya Chini ]   \n",
       "1                                  Kupanda au Kuteremka ?   \n",
       "2                                      Kunahusisha nini ?   \n",
       "3                                      Ndiyo , ni muhimu    \n",
       "4                                            Márquez ) ,/   \n",
       "...                                                   ...   \n",
       "917723   “ Watekelezaji wa Neno la Mungu ” Mahali pa M...   \n",
       "917724  Njooni Kwenye “ Wasifaji Wenye Shangwe ” Mkusa...   \n",
       "917725   “ Wajumbe wa Amani ya Kimungu ” Mahali pa Mik...   \n",
       "917726  Karibuni Kwenye “ WAJUMBE WA AMANI YA KIMUNGU ...   \n",
       "917727  Mahali pa “ Neno la Mungu la Kiunabii ” Mikusa...   \n",
       "\n",
       "                                          target_sentence   length  \n",
       "0                                            [ Footnote ]     12.0  \n",
       "1                                            Up or Down ?     12.0  \n",
       "2                                            What is it ?     12.0  \n",
       "3                                            Yes , it is      12.0  \n",
       "4                                            Várguez ) ,/     12.0  \n",
       "...                                                   ...      ...  \n",
       "917723   “ Doers of God’s Word ” District Convention L...  16720.0  \n",
       "917724  Come to the “ Joyful Praisers ” District Conve...  16919.0  \n",
       "917725   “ Messengers of Godly Peace ” District Conven...  17066.0  \n",
       "917726  Welcome to the “ Messengers of Godly Peace ” D...  17484.0  \n",
       "917727   “ God’s Prophetic Word ” District Convention ...  18009.0  \n",
       "\n",
       "[917728 rows x 3 columns]"
      ]
     },
     "execution_count": 21,
     "metadata": {},
     "output_type": "execute_result"
    }
   ],
   "source": [
    "df"
   ]
  },
  {
   "cell_type": "code",
   "execution_count": 22,
   "metadata": {},
   "outputs": [],
   "source": [
    "df_pp = df"
   ]
  },
  {
   "cell_type": "code",
   "execution_count": 11,
   "metadata": {
    "colab": {
     "base_uri": "https://localhost:8080/",
     "height": 191
    },
    "id": "M_2ouEOH1_1q",
    "outputId": "b30fcc33-5a31-46fe-a224-c7d9c4e5bcb5"
   },
   "outputs": [
    {
     "name": "stderr",
     "output_type": "stream",
     "text": [
      "/usr/local/lib/python3.6/dist-packages/ipykernel_launcher.py:7: SettingWithCopyWarning: \n",
      "A value is trying to be set on a copy of a slice from a DataFrame\n",
      "\n",
      "See the caveats in the documentation: https://pandas.pydata.org/pandas-docs/stable/user_guide/indexing.html#returning-a-view-versus-a-copy\n",
      "  import sys\n",
      "/usr/local/lib/python3.6/dist-packages/ipykernel_launcher.py:8: SettingWithCopyWarning: \n",
      "A value is trying to be set on a copy of a slice from a DataFrame\n",
      "\n",
      "See the caveats in the documentation: https://pandas.pydata.org/pandas-docs/stable/user_guide/indexing.html#returning-a-view-versus-a-copy\n",
      "  \n"
     ]
    }
   ],
   "source": [
    "# drop duplicate translations\n",
    "df_pp = df.drop_duplicates()\n",
    "\n",
    "# drop conflicting translations\n",
    "# (this is optional and something that you might want to comment out \n",
    "# depending on the size of your corpus)\n",
    "df_pp.drop_duplicates(subset='source_sentence', inplace=True)\n",
    "df_pp.drop_duplicates(subset='target_sentence', inplace=True)\n",
    "\n",
    "# Shuffle the data to remove bias in dev set selection.\n",
    "df_pp = df_pp.sample(frac=1, random_state=seed).reset_index(drop=True)"
   ]
  },
  {
   "cell_type": "code",
   "execution_count": null,
   "metadata": {
    "colab": {
     "base_uri": "https://localhost:8080/",
     "height": 278
    },
    "id": "Z_1BwAApEtMk",
    "outputId": "d99a471a-6fb6-4941-950c-7c90f2a0789d"
   },
   "outputs": [
    {
     "name": "stdout",
     "output_type": "stream",
     "text": [
      "Collecting fuzzywuzzy\n",
      "  Downloading https://files.pythonhosted.org/packages/43/ff/74f23998ad2f93b945c0309f825be92e04e0348e062026998b5eefef4c33/fuzzywuzzy-0.18.0-py2.py3-none-any.whl\n",
      "Installing collected packages: fuzzywuzzy\n",
      "Successfully installed fuzzywuzzy-0.18.0\n",
      "Collecting python-Levenshtein\n",
      "\u001b[?25l  Downloading https://files.pythonhosted.org/packages/42/a9/d1785c85ebf9b7dfacd08938dd028209c34a0ea3b1bcdb895208bd40a67d/python-Levenshtein-0.12.0.tar.gz (48kB)\n",
      "\u001b[K     |████████████████████████████████| 51kB 2.8MB/s \n",
      "\u001b[?25hRequirement already satisfied: setuptools in /usr/local/lib/python3.6/dist-packages (from python-Levenshtein) (50.3.0)\n",
      "Building wheels for collected packages: python-Levenshtein\n",
      "  Building wheel for python-Levenshtein (setup.py) ... \u001b[?25l\u001b[?25hdone\n",
      "  Created wheel for python-Levenshtein: filename=python_Levenshtein-0.12.0-cp36-cp36m-linux_x86_64.whl size=144796 sha256=a672b4c48e25c303e96476a57daff44ea0e5e6d99efc41a4a1c494ca2eefcd39\n",
      "  Stored in directory: /root/.cache/pip/wheels/de/c2/93/660fd5f7559049268ad2dc6d81c4e39e9e36518766eaf7e342\n",
      "Successfully built python-Levenshtein\n",
      "Installing collected packages: python-Levenshtein\n",
      "Successfully installed python-Levenshtein-0.12.0\n"
     ]
    }
   ],
   "source": [
    "# Install fuzzy wuzzy to remove \"almost duplicate\" sentences in the\n",
    "# test and training sets.\n",
    "! pip install fuzzywuzzy\n",
    "! pip install python-Levenshtein\n",
    "import time\n",
    "from fuzzywuzzy import process\n",
    "import numpy as np\n",
    "from os import cpu_count\n",
    "from functools import partial\n",
    "from multiprocessing import Pool\n",
    "\n",
    "\n",
    "# reset the index of the training set after previous filtering\n",
    "df_pp.reset_index(drop=False, inplace=True)\n",
    "\n",
    "# Remove samples from the training data set if they \"almost overlap\" with the\n",
    "# samples in the test set.\n",
    "\n",
    "# Filtering function. Adjust pad to narrow down the candidate matches to\n",
    "# within a certain length of characters of the given sample.\n",
    "def fuzzfilter(sample, candidates, pad):\n",
    "  candidates = [x for x in candidates if len(x) <= len(sample)+pad and len(x) >= len(sample)-pad] \n",
    "  if len(candidates) > 0:\n",
    "    return process.extractOne(sample, candidates)[1]\n",
    "  else:\n",
    "    return np.nan"
   ]
  },
  {
   "cell_type": "code",
   "execution_count": 23,
   "metadata": {
    "id": "92EsgTaY3B4H"
   },
   "outputs": [],
   "source": [
    "# start_time = time.time()\n",
    "# ### iterating over pandas dataframe rows is not recomended, let use multi processing to apply the function\n",
    "\n",
    "# with Pool(cpu_count()-1) as pool:\n",
    "#     scores = pool.map(partial(fuzzfilter, candidates=list(en_test_sents), pad=5), df_pp['source_sentence'])\n",
    "# hours, rem = divmod(time.time() - start_time, 3600)\n",
    "# minutes, seconds = divmod(rem, 60)\n",
    "# print(\"done in {}h:{}min:{}seconds\".format(hours, minutes, seconds))\n",
    "\n",
    "# # Filter out \"almost overlapping samples\"\n",
    "# df_pp = df_pp.assign(scores=scores)\n",
    "# df_pp = df_pp[df_pp['scores'] < 95]"
   ]
  },
  {
   "cell_type": "code",
   "execution_count": 23,
   "metadata": {
    "colab": {
     "base_uri": "https://localhost:8080/",
     "height": 836
    },
    "id": "hxxBOCA-xXhy",
    "outputId": "e009b507-337c-4c33-e07a-172790f9755f"
   },
   "outputs": [
    {
     "name": "stdout",
     "output_type": "stream",
     "text": [
      "==> train.bpe.en <==\n",
      " M@@ ad@@ s@@ en , F \n",
      "V@@ is@@ u@@ ali@@ ze the s@@ cen@@ e \n",
      "New As@@ sign@@ ments\n",
      " Corinthi@@ ans@@ ,\n",
      "L@@ AN@@ D@@ S AN@@ D P@@ E@@ O@@ P@@ L@@ E@@ S\n",
      "W@@ RI@@ T@@ E@@ R I@@ N R@@ U@@ S@@ S@@ I@@ A\n",
      "No@@ ah . ​ — Lu@@ ke\n",
      "() Bra@@ z , D \n",
      "Be Th@@ an@@ k@@ ful for the R@@ ain\n",
      "Do Not Jud@@ ge One A@@ no@@ ther\n",
      "\n",
      "==> train.bpe.sw <==\n",
      " M@@ ad@@ s@@ en , F \n",
      "W@@ az@@ ia kik@@ ao \n",
      "M@@ ig@@ a@@ wo M@@ ip@@ ya\n",
      " Wakorinth@@ o,\n",
      "N@@ C@@ H@@ I N@@ A W@@ AT@@ U\n",
      "N@@ C@@ H@@ IN@@ I U@@ R@@ U@@ S@@ I\n",
      "N@@ oa . — L@@ uka\n",
      "() Bra@@ z , D \n",
      "T@@ ham@@ ini M@@ v@@ ua\n",
      "M@@ si@@ hu@@ ku@@ mi@@ ane\n",
      "\n",
      "==> train.en <==\n",
      "[ Footnote ]\n",
      "Up or Down ?\n",
      "What is it ?\n",
      "Yes , it is \n",
      "Várguez ) ,/\n",
      "ADVERTISING \n",
      " Heggli , T \n",
      "[ Footnote ]\n",
      "P . , Canada\n",
      "V . , France\n",
      "\n",
      "==> train.sw <==\n",
      "[ Maelezo ya Chini ]\n",
      "Kupanda au Kuteremka ?\n",
      "Kunahusisha nini ?\n",
      "Ndiyo , ni muhimu \n",
      "Márquez ) ,/\n",
      "MATANGAZO YA BIASHARA \n",
      " Heggli , T \n",
      "[ Maelezo ya Chini ]\n",
      "P . , Kanada\n",
      "V . , Ufaransa\n",
      "==> dev.bpe.en <==\n",
      "During my@@ years of full - time service , I have re@@ pe@@ at@@ ed@@ ly refl@@ ected on the words of the apostle Paul@@ “ In every way we re@@ comm@@ end ourselves as God’s minis@@ ters , by the end@@ ur@@ ance of much , by trib@@ ul@@ ations , by cas@@ es of need , by diffic@@ ul@@ ties , by be@@ at@@ ings , by pris@@ ons , by dis@@ ord@@ ers , by lab@@ ors , by s@@ le@@ ep@@ less n@@ igh@@ ts , by times without food . ”\n",
      "Th@@ ree h@@ und@@ red years after David describ@@ ed Jehovah so be@@ au@@ ti@@ fully in the r@@ d Psalm@@ , another Bible writ@@ er , M@@ ic@@ ah , ex@@ to@@ l@@ led this same God in much the same way for his gr@@ ac@@ ious for@@ giving of sin@@ s once comm@@ it@@ te@@ d“ What g@@ od can comp@@ are with you@@ taking fa@@ ult away , par@@ don@@ ing crim@@ e , not ch@@ er@@ ish@@ ing ang@@ er for ever but de@@ ligh@@ ting in show@@ ing m@@ erc@@ y ?\n",
      "However , R@@ us@@ sel@@ l wrote“ B@@ re@@ th@@ ren famili@@ ar with new@@ sp@@ aper me@@ th@@ ods . . . ass@@ ure us that if the we@@ ek@@ ly ser@@ m@@ ons em@@ an@@ ated from a [ lar@@ g@@ er cen@@ ter ] it would pos@@ sib@@ ly result in the public@@ ation of the ser@@ m@@ ons all over the United St@@ at@@ es@@ that within a year there might be h@@ und@@ re@@ ds of p@@ ap@@ ers pub@@ lish@@ ing them reg@@ ularly . ”\n",
      "Re@@ g@@ arding this gener@@ ally accep@@ ted concl@@ usi@@ on , R@@ ob@@ er@@ t J@@ as@@ tro@@ w , prof@@ ess@@ or of as@@ tr@@ onom@@ y and ge@@ olo@@ gy at C@@ ol@@ umb@@ ia Uni@@ vers@@ ity , wrote“ F@@ ew as@@ tr@@ onom@@ ers could have an@@ ti@@ ci@@ p@@ ated that this ev@@ ent — the su@@ d@@ den bir@@ th of the Uni@@ verse — would become a prov@@ en sci@@ enti@@ fi@@ c fact , but ob@@ serv@@ ations of the heav@@ ens through tel@@ es@@ cop@@ es have for@@ c@@ ed them to that concl@@ usi@@ on . ”\n",
      "The same refer@@ ence work says“ To appreci@@ ate the v@@ as@@ t@@ ness of the power that is in@@ her@@ ent in s@@ un@@ light , one need only refl@@ ect that all the power re@@ pres@@ ented in the w@@ ind@@ s and in d@@ am@@ s and ri@@ v@@ ers and all the power con@@ tain@@ ed in natural fu@@ els such as wo@@ od , co@@ al , and o@@ il is nothing more than s@@ un@@ light that has been sto@@ red up by a tin@@ y plan@@ et [ the earth ]@@ million mil@@ es [@@ million kilom@@ et@@ ers ] away from the su@@ n . ”\n",
      "C@@ hild@@ ren born to women who ing@@ ested P@@ C@@ B - cont@@ amin@@ ated r@@ ice o@@ il in Jap@@ an some years ago “ suffer@@ ed from physical and men@@ tal develop@@ men@@ tal d@@ el@@ a@@ ys , be@@ ha@@ vi@@ or@@ al problems including h@@ y@@ po@@ activ@@ ity and h@@ y@@ per@@ activ@@ ity , ab@@ nor@@ ma@@ l@@ ly small p@@ en@@ is@@ es , and I@@ Q s@@ co@@ res five poin@@ ts bel@@ ow a@@ ver@@ age , ” D@@ is@@ c@@ over magazine reports \n",
      "Some three thous@@ and years ago , King David of Israel , who knew nothing of to@@ da@@ y’s adv@@ ances in g@@ ene@@ tic resear@@ ch , said in po@@ e@@ tic language to his Cre@@ at@@ or@@ “ It was you who cre@@ ated my in@@ most self , and put me together in my mo@@ ther@@ ’s wo@@ mb@@ for all these my@@ st@@ er@@ ies I than@@ k you@@ for the wond@@ er of my@@ self , for the wond@@ er of your works \n",
      "He said@@ () Fo@@ res@@ ee situ@@ ations that could be spiritu@@ ally or phys@@ ic@@ ally dang@@ er@@ ous , and avoid the cal@@ am@@ it@@ y@@ () vis@@ u@@ ali@@ ze the s@@ cen@@ es you read in the Bible , and imag@@ ine that you are part of the ev@@ ent@@ () imag@@ ine that each person you speak to in your new ass@@ ign@@ ment is a po@@ ten@@ ti@@ al wor@@ ship@@ per of Jehova@@ hand () devel@@ op emp@@ ath@@ y by imag@@ ining your@@ selves in the place of those to whom you pre@@ ach . ​ — Proverb@@ s\n",
      "That there was to be gen@@ u@@ ine un@@ ity among its members was made clear when Jesus pra@@ ye@@ d“ I make requ@@ est , not concer@@ ning these only , but also concer@@ ning those p@@ ut@@ ting faith in me through their wor@@ d@@ in order that they may all be one , just as you , Father , are in uni@@ on with me and I am in uni@@ on with you , that they also may be in uni@@ on with us , in order that the world may believe that you sent me for@@ th . ”\n",
      "The world@@ ’s wor@@ st - ​ affec@@ ted re@@ gi@@ ons were sou@@ ther@@ n As@@ ia , wh@@ erem@@ il@@ lion people suf@@ fer from fam@@ ine (@@ percent of the pop@@ ulation )@@ Afric@@ a , with@@ million ( . percent of the pop@@ ulation )@@ the Ne@@ ar E@@ ast and N@@ or@@ th Afric@@ a , with@@ million ( . percent of the pop@@ ulation )@@ and L@@ at@@ in Americ@@ a and the C@@ arib@@ be@@ an , with@@ million ( . percent of the pop@@ ulation ) \n",
      "\n",
      "==> dev.bpe.sw <==\n",
      "Wakati wa utumishi wangu wa wakati wote wa miaka@@ , nime@@ taf@@ akari mara nyingi maneno haya ya mtume P@@ au@@ lo@@ “ Katika kila njia t@@ wa@@ ji@@ p@@ ende@@ keza wenyewe kuwa wa@@ hud@@ umu wa Mungu , kwa uv@@ um@@ ili@@ vu wa mengi , kwa d@@ hiki nyingi , kwa v@@ isa vya uhitaji , kwa mag@@ umu , kwa map@@ igo , kwa mag@@ ereza , kwa mi@@ v@@ ur@@ ug@@ o , kwa kazi za j@@ as@@ ho , kwa ma@@ siku ya kuk@@ osa us@@ ing@@ izi , kwa nyakati za kuwa bila chakula . ”\n",
      "Mi@@ ak@@ ab@@ a@@ ada ya Daudi kum@@ fa@@ fan@@ ua Yehova vizuri sana katika Zaburi ya, mwan@@ d@@ ik@@ aji mwingine wa Biblia , M@@ ika , alim@@ him@@ idi Mungu u@@ yo huyo kwa njia i@@ yo hiyo kwa sababu ya njia yake ya re@@ h@@ ema ya kus@@ am@@ ehe dhambi zilizo@@ fany@@ wa@@ “ Ni m@@ ungu y@@ up@@ i a@@ weza@@ ye kulingana na we@@ we@@ anaye@@ ondo@@ lea mbali makosa , ana@@ yes@@ am@@ ehe u@@ halifu , asi@@ ye@@ kuwa na hasira ya da@@ ima lakini af@@ ura@@ hi@@ aye katika kuonyesha re@@ h@@ ema ?\n",
      "Hata hivyo , R@@ us@@ sel@@ l ali@@ and@@ ika@@ “ Ndugu wanao@@ elewa jinsi makala mbalimbali zina@@ vyo@@ s@@ amba@@ zwa kati ya mag@@ azeti ya ulimwengu . . . wan@@ atu@@ hakik@@ ishia kwamba ikiwa yale ma@@ hubiri ya kila j@@ uma y@@ ange@@ andikwa katika [ jiji kubwa ] huenda ik@@ awa y@@ ang@@ ec@@ hap@@ ishwa ko@@ tek@@ ote Marekani , na wan@@ ak@@ ad@@ iria kwamba katika muda wa mwaka mmoja y@@ ange@@ kuwa yak@@ ic@@ hap@@ ishwa kwa ukawaida katika mam@@ ia ya mag@@ azeti . ”\n",
      "Ku@@ husu uamuzi huo ambao una@@ kub@@ aliwa na wengi , R@@ ob@@ er@@ t J@@ as@@ tro@@ w , ambaye ni prof@@ esa wa mambo ya nyo@@ ta na mi@@ amba katika C@@ huo Ki@@ kuu cha C@@ ol@@ umb@@ ia , aliandika hivi“ Ni wata@@ alamu wa@@ chache wa nyo@@ ta ambao wange@@ weza kut@@ ar@@ aj@@ ia kwamba tuki@@ o hili — kuz@@ aliwa kwa g@@ ha@@ fu@@ la kwa Ulimwengu — l@@ inge@@ thibit@@ ishwa kis@@ a@@ yansi , lakini kutaz@@ ama mbingu kupitia dar@@ ub@@ ini ku@@ me@@ wa@@ lazim@@ isha wa@@ f@@ iki@@ e uamuzi huo . ”\n",
      "Kitabu hi@@ cho@@ hicho kin@@ asema hivi“ Ili kuelewa nguvu nyingi zilizo katika m@@ wang@@ aza wa jua , in@@ af@@ aa ku@@ kumbuka kwamba nguvu zote zilizo katika u@@ pe@@ po , mab@@ wa@@ wa , na mit@@ o na nguvu zilizo katika v@@ yan@@ zo vya asili vya n@@ ish@@ ati kama vile mb@@ ao , maka@@ a , na mafuta z@@ inat@@ ok@@ ana na m@@ wang@@ aza wa jua ambao ume@@ hi@@ fad@@ hiwa na sa@@ yari ndogo [ dunia ] iliyo umb@@ ali wa kilom@@ eta mili@@ oni@@ kutoka kwenye jua . ”\n",
      "Watoto walio@@ zaliwa na wanawake wali@@ om@@ eza mafuta ya mak@@ ap@@ i ya m@@ ch@@ ele yaliyo@@ kuwa na P@@ C@@ B katika Jap@@ ani miaka kadhaa iliyopita , “ wali@@ pat@@ wa na uku@@ zi wa po@@ le@@ pole wa kimwili na wa ki@@ akili , matatizo ya tabia kutia ndani kuto@@ t@@ enda sana na kutenda kupita kiasi , u@@ ume ulio mdogo kupita kiasi , na ki@@ wango cha akili kili@@ ch@@ op@@ ungua poin@@ ti t@@ ano chini ya wa@@ st@@ ani , ” l@@ ari@@ poti gazeti D@@ is@@ c@@ over \n",
      "Mi@@ aka elfu tatu hivi iliyopita , Mfalme Daudi wa Israeli , asi@@ ye@@ jua lolote juu ya maendeleo ya kis@@ asa katika uta@@ f@@ iti wa ur@@ ithi , ali@@ mw@@ i@@ mbia hivi Muumba wake kwa lugha ya kis@@ ha@@ ir@@ i@@ “ Ni wewe ndi@@ we uli@@ ye@@ umba m@@ ti@@ ma wangu , na kun@@ i@@ ung@@ anisha pamoja tu@@ mb@@ oni mwa mama y@@ ang@@ un@@ ina@@ kus@@ hu@@ kuru kwa sababu ya ma@@ ajabu haya yo@@ te@@ kwa sababu ya umb@@ o l@@ angu la ajabu , kwa sababu ya ma@@ ajabu ya kazi zako \n",
      "Ali@@ se@@ ma@@ () T@@ ambua mapema hali ambazo zina@@ weza kuwa hatari kimwili na kiroho , na u@@ ep@@ u@@ ke m@@ sib@@ a hu@@ o@@ () wa@@ zia ak@@ il@@ ini ma@@ simulizi una@@ yo@@ s@@ oma katika Biblia , na u@@ wazi@@ e kwamba un@@ as@@ hiriki katika mambo ha@@ yo@@ () wa@@ zia kwamba kila mtu una@@ ye@@ zungumza naye katika m@@ ga@@ wo wako mpya anaweza kuwa mwa@@ b@@ udu wa Yehov@@ ana () s@@ itawisha hur@@ uma kwa kuji@@ wa@@ zia ukiwa katika hali za wale unao@@ wa@@ hub@@ iria . — Me@@ th@@ ali\n",
      "Jambo la kwamba mu@@ ung@@ ano wa kweli uli@@ p@@ aswa kuwa miongoni mwa washiriki wal@@ o lili@@ d@@ hi@@ hir@@ ishwa wakati Yesu ali@@ pos@@ ali hivi“ S@@ i hao tu nina@@ o@@ wa@@ omb@@ e@@ al@@ akini na wale wat@@ aka@@ oni@@ amini kwa sababu ya neno la@@ o . W@@ ote wawe na um@@ oja [ “ mu@@ ung@@ ano , ” NW ]@@ kama wewe , Baba , uli@@ vyo ndani yangu , nami ndani yak@@ o@@ hao nao wawe ndani ye@@ tu@@ ili ulimwengu up@@ ate kus@@ ad@@ iki ya kwamba wewe ndi@@ we uli@@ yen@@ it@@ uma . ”\n",
      "Ma@@ eneo ya ulimwengu yenye ku@@ ath@@ iriwa vibaya zaidi yalikuwa As@@ ia ya kus@@ ini , ambako watu mili@@ oni@@ hu@@ ta@@ ab@@ ishwa na nj@@ aa ( asilimi@@ aya idadi ya watu )@@ Afrika , ikiwa na mili@@ oni@@ ( asili@@ m@@ ia . ya idadi ya watu )@@ Mas@@ hariki ya K@@ aribu na Afrika K@@ as@@ kazini , z@@ ikiwa na mili@@ oni@@ ( asili@@ m@@ ia . ya idadi ya watu )@@ na Amer@@ ika ya L@@ at@@ ini na eneo la K@@ arib@@ ea , z@@ ikiwa na mili@@ oni@@ ( asili@@ m@@ ia . ya idadi ya watu ) \n",
      "\n",
      "==> dev.en <==\n",
      "Kofi Annan , secretary - general of the United Nations , mentioned some of the major problems children face today when he wrote“ Millions of children continue to endure the dreadful indignities of povertyhundreds of thousands suffer the effects of conflict and economic chaostens of thousands are maimed in warsmany more are orphaned or killed by HIV / AIDS . ”\n",
      "Historian Scarisbrick wrote that it was “ argued that the Church needed radical purging , that society could no longer carry this uneconomic burden , this vast institution which absorbed so much manpower , sterilized so much wealth , took so much and gave back so little . . . , and that the flow of English money to Rome . . . damaged [ England’s ] economy . ”\n",
      "“ Our current educational program , ” he declared , “ is designed to bring all of Jehovah’s people everywhere into the fine condition of maturity described at Proverbs-​ — that of knowing wisdom and discipline , being able to discern understanding , receiving the discipline that gives insight , righteousness , judgment , uprightness , and thinking ability . ”\n",
      "Speaking as one of the anointed and referring to faithful men and women who lived before Christ , the apostle Paul wrote“ All these , although they had witness borne to them through their faith , did not get the fulfillment of the promise , as God foresaw something better for us [ the anointed ] , in order that they might not be made perfect apart from us . ”\n",
      "It is said to stand for “ the central part in general , the inside , and so for the interior man as manifesting himself in all his various activities , in his desires , affections , emotions , passions , purposes , his thoughts , perceptions , imaginations , his wisdom , knowledge , skill , his beliefs and his reasonings , his memory and his consciousness . ”\n",
      "He is able to notice more closely the creation around him — the sound of birds scratching as they inspect the freshly turned soil in the plowed furrowsthe smell of damp grassthe crackling of the frost as the plow knifes through the chilled earth on a cold morning — little things that tend to go unnoticed when the farmer is bombarded by the noise of a tractor \n",
      "According to the California Department of Health Services in the United States , mold can cause the following symptoms‘ Respiratory problems , such as wheezing , difficulty breathing , and shortness of breathnasal and sinus congestioneye irritation ( burning , watery , or reddened eyes )dry , hacking coughnose or throat irritationskin rashes or irritation . ’\n",
      "In the book of Revelation , the apostle John hears heavenly creatures applying this scripture as they praise the resurrected Jesus“ You were slaughtered and with your blood you bought persons for God out of every tribe and tongue and people and nation , and you made them to be a kingdom and priests to our God , and they are to rule as kings over the earth . ”\n",
      "Wherever the missionary places his standard among a savage tribe , their prejudices against the colonial government give waytheir dependence upon the colony is increased by the creation of artificial wants. . . industry , trade , and agriculture spring upand every genuine convert from among them . . . becomes the ally and friend of the colonial government . ”\n",
      "When she tactfully showed him that taking vengeance on her husband , Nabal , would result in bloodguilt , David exclaimed“ Blessed be Jehovah the God of Israel , who has sent you this day to meet meAnd blessed be your sensibleness , and blessed be you who have restrained me this day from entering into bloodguilt and having my own hand come to my salvation . ”\n",
      "\n",
      "==> dev.sw <==\n",
      "Katibu - mkuu wa Umoja wa Mataifa , Kofi Annan , alitaja baadhi ya matatizo makuu yanayowakabili watoto leo alipoandika hivi“ Mamilioni ya watoto wanaendelea kunyong’onyea ndani ya ufukara wenye kudhalilisha na kuumizamamia ya maelfu huteseka kutokana na athari za mapambano na michafuko ya kiuchumimakumi ya maelfu hulemazwa vitaniwengi zaidi ni yatima au hufa kutokana na UKIMWI . ”\n",
      "Mwanahistoria Scarisbrick aliandika kwamba “ ilidaiwa kwamba Kanisa lilihitaji kutakaswa kabisa , kwamba jamii haingeweza kubeba tena mzigo huu usio na faida , Kanisa hili kubwa lililotumia watu sana , likanyonya mali nyingi sana , likachukua vitu vingi na kutoa vichache . . . , na kusafirisha pesa za Uingereza hadi Roma . . . liliharibu uchumi wa [ Uingereza ] . ”\n",
      "“ Programu yetu ya kielimu ya wakati huu , ” yeye akatangaza , “ imekusudiwa kuleta watu wote wa Yehova kila mahali kwenye ile hali bora ya ukomavu inayofafanuliwa kwenye Mithali-— ile ya kupata kujua hekima na nidhamu , kuweza kutambua uelewevu , kupokea nidhamu itoayo ufahamu wenye kina , uadilifu , hukumu , unyoofu , na uwezo wa kufikiri . ”\n",
      "Akizungumza akiwa mmoja wa watiwa - mafuta na kurejezea wanaume na wanawake waaminifu walioishi kabla ya Kristo , mtume Paulo aliandika hivi“ Wote hawa , ijapokuwa walitolewa ushahidi kupitia imani yao , hawakupata utimizo wa ahadi , kwa kuwa Mungu aliona kimbele kitu fulani bora kwa ajili yetu sisi [ watiwa - mafuta ] , ili wasipate kufanywa wakamilifu bila sisi . ”\n",
      "Huo husemwa kuwa unawakilisha “ sehemu kuu kwa ujumla , undani , na kwa hiyo wawakilisha mtu wa ndani kama ajionyeshavyo katika utendaji wake mbalimbali , tamaa zake , shauku , hisia za moyoni , harara , makusudi , mafikirio yake , mawazo yake , utambuzi wake , madhanio , hekima yake , ujuzi , ustadi , itikadi na kusababu kwake , kumbukumbu lake na ufahamu wake . ”\n",
      "Aweza kuona kwa ukaribu zaidi uumbaji umzungukao — sauti za ndege wanaochakura - chakura , wakaguapo udongo uliotokea katika mitaro iliyolimwa , harufu ya majani yenye unyevukutatarika kwa ukungu plau ipasuapo udongo ulioganda katika baridi ya asubuhi — mambo madogo ambayo yaelekea kutochukuliwa kwa uzito mkulima apigwapo na kelele za trekta \n",
      "Kulingana na Idara ya Huduma za Afya ya California nchini Marekani , kuvu zinaweza kutokeza dalili zifuatazo‘ Matatizo ya kupumua , kama vile kukoroma , kupumua kwa shida , kupumua haraka - harakakuziba kwa puakuwashwa na macho ( macho kutoa machozi au kuwa mekundu )kikohozi kikalikuwashwa na pua au koovipele au kuwashwa na ngozi . ’\n",
      "Katika kitabu cha Ufunuo , mtume Yohana asikia viumbe vya kimbingu vikitumia andiko hili vinapomsifu Yesu aliyefufuliwa“ Ulichinjwa , ukamnunulia Mungu kwa damu yako watu wa kila kabila na lugha na jamaa na taifa , ukawafanya kuwa ufalme na makuhani kwa Mungu wetunao wanamiliki juu ya nchi . ”\n",
      "Popote ambapo mishonari aanza kutafuta waongofu miongoni mwa kabila lisiloerevuka , chuki zao zisizo na sababu dhidi ya serikali ya kikoloni hukomakutegemea kwao koloni kunaongezeka kwa kuundwa kwa tamaa zisizo halisi. . . viwanda , biashara na ukulima husitawika kwa ghafulana mwongofu yeyote wa kweli kutoka miongoni mwao . . . huwa msaidizi na rafiki wa serikali ya kikoloni . ” Je\n",
      "Abigaili alipomwonyesha kwa busara kwamba kumlipa kisasi mume wake , Nabali , kungesababisha hatia ya damu , Daudi alipaza sauti hivi“ Na ahimidiwe BWANA [ Yehova , NW ] , Mungu wa Israeli , ambaye amekuleta hivi leo kunilakina ibarikiwe busara yako , na ubarikiwe wewe , uliyenizuia hivi leo nisimwage damu , wala kujilipiza kisasi kwa mkono wangu mwenyewe . ”\n"
     ]
    }
   ],
   "source": [
    "# This section does the split between train/dev for the parallel corpora then saves them as separate files\n",
    "# We use 1000 dev test and the given test set.\n",
    "import csv\n",
    "\n",
    "# Do the split between dev/train and create parallel corpora\n",
    "num_dev_patterns = 1000\n",
    "\n",
    "# Optional: lower case the corpora - this will make it easier to generalize, but without proper casing.\n",
    "if lc:  # Julia: making lowercasing optional\n",
    "    df_pp[\"source_sentence\"] = df_pp[\"source_sentence\"].str.lower()\n",
    "    df_pp[\"target_sentence\"] = df_pp[\"target_sentence\"].str.lower()\n",
    "\n",
    "# Julia: test sets are already generated\n",
    "dev = df_pp.tail(num_dev_patterns) # Herman: Error in original\n",
    "stripped = df_pp.drop(df_pp.tail(num_dev_patterns).index)\n",
    "\n",
    "with open(\"train.\"+source_language, \"w\") as src_file, open(\"train.\"+target_language, \"w\") as trg_file:\n",
    "  for index, row in stripped.iterrows():\n",
    "    src_file.write(row[\"source_sentence\"]+\"\\n\")\n",
    "    trg_file.write(row[\"target_sentence\"]+\"\\n\")\n",
    "    \n",
    "with open(\"dev.\"+source_language, \"w\") as src_file, open(\"dev.\"+target_language, \"w\") as trg_file:\n",
    "  for index, row in dev.iterrows():\n",
    "    src_file.write(row[\"source_sentence\"]+\"\\n\")\n",
    "    trg_file.write(row[\"target_sentence\"]+\"\\n\")\n",
    "\n",
    "#stripped[[\"source_sentence\"]].to_csv(\"train.\"+source_language, header=False, index=False)  # Herman: Added `header=False` everywhere\n",
    "#stripped[[\"target_sentence\"]].to_csv(\"train.\"+target_language, header=False, index=False)  # Julia: Problematic handling of quotation marks.\n",
    "\n",
    "#dev[[\"source_sentence\"]].to_csv(\"dev.\"+source_language, header=False, index=False)\n",
    "#dev[[\"target_sentence\"]].to_csv(\"dev.\"+target_language, header=False, index=False)\n",
    "\n",
    "# Doublecheck the format below. There should be no extra quotation marks or weird characters.\n",
    "! head train.*\n",
    "! head dev.*"
   ]
  },
  {
   "cell_type": "markdown",
   "metadata": {
    "id": "epeCydmCyS8X"
   },
   "source": [
    "\n",
    "\n",
    "---\n",
    "\n",
    "\n",
    "## Installation of JoeyNMT\n",
    "\n",
    "JoeyNMT is a simple, minimalist NMT package which is useful for learning and teaching. Check out the documentation for JoeyNMT [here](https://joeynmt.readthedocs.io)  "
   ]
  },
  {
   "cell_type": "code",
   "execution_count": 24,
   "metadata": {
    "colab": {
     "base_uri": "https://localhost:8080/",
     "height": 1000
    },
    "id": "iBRMm4kMxZ8L",
    "outputId": "97a36759-3f50-4498-f54e-9d36cb35c9ab"
   },
   "outputs": [
    {
     "name": "stdout",
     "output_type": "stream",
     "text": [
      "fatal: destination path 'joeynmt' already exists and is not an empty directory.\n",
      "Processing /workspace/masakhane-mt/joeynmt\n",
      "Requirement already satisfied: future in /opt/conda/lib/python3.7/site-packages (from joeynmt==1.2) (0.18.2)\n",
      "Requirement already satisfied: pillow in /opt/conda/lib/python3.7/site-packages (from joeynmt==1.2) (8.0.1)\n",
      "Requirement already satisfied: numpy<1.19.0,>=1.14.5 in /opt/conda/lib/python3.7/site-packages (from joeynmt==1.2) (1.18.5)\n",
      "Requirement already satisfied: setuptools>=41.0.0 in /opt/conda/lib/python3.7/site-packages (from joeynmt==1.2) (46.1.3.post20200325)\n",
      "Requirement already satisfied: torch==1.7.1 in /opt/conda/lib/python3.7/site-packages (from joeynmt==1.2) (1.7.1+cu101)\n",
      "Requirement already satisfied: tensorboard>=1.15 in /opt/conda/lib/python3.7/site-packages (from joeynmt==1.2) (2.4.0)\n",
      "Requirement already satisfied: torchtext==0.8.1 in /opt/conda/lib/python3.7/site-packages (from joeynmt==1.2) (0.8.1)\n",
      "Requirement already satisfied: sacrebleu>=1.3.6 in /opt/conda/lib/python3.7/site-packages (from joeynmt==1.2) (1.4.14)\n",
      "Requirement already satisfied: subword-nmt in /opt/conda/lib/python3.7/site-packages (from joeynmt==1.2) (0.3.7)\n",
      "Requirement already satisfied: matplotlib in /opt/conda/lib/python3.7/site-packages (from joeynmt==1.2) (3.2.1)\n",
      "Requirement already satisfied: seaborn in /opt/conda/lib/python3.7/site-packages (from joeynmt==1.2) (0.10.0)\n",
      "Requirement already satisfied: pyyaml>=5.1 in /opt/conda/lib/python3.7/site-packages (from joeynmt==1.2) (5.3.1)\n",
      "Requirement already satisfied: pylint in /opt/conda/lib/python3.7/site-packages (from joeynmt==1.2) (2.4.4)\n",
      "Requirement already satisfied: six==1.12 in /opt/conda/lib/python3.7/site-packages (from joeynmt==1.2) (1.12.0)\n",
      "Requirement already satisfied: wrapt==1.11.1 in /opt/conda/lib/python3.7/site-packages (from joeynmt==1.2) (1.11.1)\n",
      "Requirement already satisfied: cycler>=0.10 in /opt/conda/lib/python3.7/site-packages (from matplotlib->joeynmt==1.2) (0.10.0)\n",
      "Requirement already satisfied: pyparsing!=2.0.4,!=2.1.2,!=2.1.6,>=2.0.1 in /opt/conda/lib/python3.7/site-packages (from matplotlib->joeynmt==1.2) (2.4.7)\n",
      "Requirement already satisfied: numpy<1.19.0,>=1.14.5 in /opt/conda/lib/python3.7/site-packages (from joeynmt==1.2) (1.18.5)\n",
      "Requirement already satisfied: kiwisolver>=1.0.1 in /opt/conda/lib/python3.7/site-packages (from matplotlib->joeynmt==1.2) (1.2.0)\n",
      "Requirement already satisfied: python-dateutil>=2.1 in /opt/conda/lib/python3.7/site-packages (from matplotlib->joeynmt==1.2) (2.8.1)\n",
      "Requirement already satisfied: six==1.12 in /opt/conda/lib/python3.7/site-packages (from joeynmt==1.2) (1.12.0)\n",
      "Requirement already satisfied: mccabe<0.7,>=0.6 in /opt/conda/lib/python3.7/site-packages (from pylint->joeynmt==1.2) (0.6.1)\n",
      "Requirement already satisfied: astroid<2.4,>=2.3.0 in /opt/conda/lib/python3.7/site-packages (from pylint->joeynmt==1.2) (2.3.3)\n",
      "Requirement already satisfied: isort<5,>=4.2.5 in /opt/conda/lib/python3.7/site-packages (from pylint->joeynmt==1.2) (4.3.21)\n",
      "Requirement already satisfied: six==1.12 in /opt/conda/lib/python3.7/site-packages (from joeynmt==1.2) (1.12.0)\n",
      "Requirement already satisfied: typed-ast<1.5,>=1.4.0 in /opt/conda/lib/python3.7/site-packages (from astroid<2.4,>=2.3.0->pylint->joeynmt==1.2) (1.4.1)\n",
      "Requirement already satisfied: lazy-object-proxy==1.4.* in /opt/conda/lib/python3.7/site-packages (from astroid<2.4,>=2.3.0->pylint->joeynmt==1.2) (1.4.3)\n",
      "Requirement already satisfied: wrapt==1.11.1 in /opt/conda/lib/python3.7/site-packages (from joeynmt==1.2) (1.11.1)\n",
      "Requirement already satisfied: six==1.12 in /opt/conda/lib/python3.7/site-packages (from joeynmt==1.2) (1.12.0)\n",
      "Requirement already satisfied: portalocker in /opt/conda/lib/python3.7/site-packages (from sacrebleu>=1.3.6->joeynmt==1.2) (2.0.0)\n",
      "Requirement already satisfied: numpy<1.19.0,>=1.14.5 in /opt/conda/lib/python3.7/site-packages (from joeynmt==1.2) (1.18.5)\n",
      "Requirement already satisfied: scipy>=1.0.1 in /opt/conda/lib/python3.7/site-packages (from seaborn->joeynmt==1.2) (1.4.1)\n",
      "Requirement already satisfied: pandas>=0.22.0 in /opt/conda/lib/python3.7/site-packages (from seaborn->joeynmt==1.2) (1.1.5)\n",
      "Requirement already satisfied: matplotlib in /opt/conda/lib/python3.7/site-packages (from joeynmt==1.2) (3.2.1)\n",
      "Requirement already satisfied: python-dateutil>=2.1 in /opt/conda/lib/python3.7/site-packages (from matplotlib->joeynmt==1.2) (2.8.1)\n",
      "Requirement already satisfied: pytz>=2017.2 in /opt/conda/lib/python3.7/site-packages (from pandas>=0.22.0->seaborn->joeynmt==1.2) (2019.3)\n",
      "Requirement already satisfied: numpy<1.19.0,>=1.14.5 in /opt/conda/lib/python3.7/site-packages (from joeynmt==1.2) (1.18.5)\n",
      "Requirement already satisfied: numpy<1.19.0,>=1.14.5 in /opt/conda/lib/python3.7/site-packages (from joeynmt==1.2) (1.18.5)\n",
      "Requirement already satisfied: numpy<1.19.0,>=1.14.5 in /opt/conda/lib/python3.7/site-packages (from joeynmt==1.2) (1.18.5)\n",
      "Requirement already satisfied: grpcio>=1.24.3 in /opt/conda/lib/python3.7/site-packages (from tensorboard>=1.15->joeynmt==1.2) (1.34.0)\n",
      "Requirement already satisfied: requests<3,>=2.21.0 in /opt/conda/lib/python3.7/site-packages (from tensorboard>=1.15->joeynmt==1.2) (2.23.0)\n",
      "Requirement already satisfied: tensorboard-plugin-wit>=1.6.0 in /opt/conda/lib/python3.7/site-packages (from tensorboard>=1.15->joeynmt==1.2) (1.7.0)\n",
      "Requirement already satisfied: werkzeug>=0.11.15 in /opt/conda/lib/python3.7/site-packages (from tensorboard>=1.15->joeynmt==1.2) (1.0.1)\n",
      "Requirement already satisfied: setuptools>=41.0.0 in /opt/conda/lib/python3.7/site-packages (from joeynmt==1.2) (46.1.3.post20200325)\n",
      "Requirement already satisfied: six==1.12 in /opt/conda/lib/python3.7/site-packages (from joeynmt==1.2) (1.12.0)\n",
      "Requirement already satisfied: wheel>=0.26 in /opt/conda/lib/python3.7/site-packages (from tensorboard>=1.15->joeynmt==1.2) (0.34.2)\n",
      "Requirement already satisfied: protobuf>=3.6.0 in /opt/conda/lib/python3.7/site-packages (from tensorboard>=1.15->joeynmt==1.2) (3.14.0)\n",
      "Requirement already satisfied: google-auth<2,>=1.6.3 in /opt/conda/lib/python3.7/site-packages (from tensorboard>=1.15->joeynmt==1.2) (1.23.0)\n",
      "Requirement already satisfied: markdown>=2.6.8 in /opt/conda/lib/python3.7/site-packages (from tensorboard>=1.15->joeynmt==1.2) (3.2.1)\n",
      "Requirement already satisfied: google-auth-oauthlib<0.5,>=0.4.1 in /opt/conda/lib/python3.7/site-packages (from tensorboard>=1.15->joeynmt==1.2) (0.4.1)\n",
      "Requirement already satisfied: absl-py>=0.4 in /opt/conda/lib/python3.7/site-packages (from tensorboard>=1.15->joeynmt==1.2) (0.10.0)\n",
      "Requirement already satisfied: six==1.12 in /opt/conda/lib/python3.7/site-packages (from joeynmt==1.2) (1.12.0)\n",
      "Requirement already satisfied: setuptools>=41.0.0 in /opt/conda/lib/python3.7/site-packages (from joeynmt==1.2) (46.1.3.post20200325)\n",
      "Requirement already satisfied: cachetools<5.0,>=2.0.0 in /opt/conda/lib/python3.7/site-packages (from google-auth<2,>=1.6.3->tensorboard>=1.15->joeynmt==1.2) (3.1.1)\n",
      "Requirement already satisfied: six==1.12 in /opt/conda/lib/python3.7/site-packages (from joeynmt==1.2) (1.12.0)\n",
      "Requirement already satisfied: pyasn1-modules>=0.2.1 in /opt/conda/lib/python3.7/site-packages (from google-auth<2,>=1.6.3->tensorboard>=1.15->joeynmt==1.2) (0.2.7)\n",
      "Requirement already satisfied: rsa<5,>=3.1.4 in /opt/conda/lib/python3.7/site-packages (from google-auth<2,>=1.6.3->tensorboard>=1.15->joeynmt==1.2) (4.0)\n",
      "Requirement already satisfied: google-auth<2,>=1.6.3 in /opt/conda/lib/python3.7/site-packages (from tensorboard>=1.15->joeynmt==1.2) (1.23.0)\n",
      "Requirement already satisfied: requests-oauthlib>=0.7.0 in /opt/conda/lib/python3.7/site-packages (from google-auth-oauthlib<0.5,>=0.4.1->tensorboard>=1.15->joeynmt==1.2) (1.2.0)\n",
      "Requirement already satisfied: six==1.12 in /opt/conda/lib/python3.7/site-packages (from joeynmt==1.2) (1.12.0)\n",
      "Requirement already satisfied: setuptools>=41.0.0 in /opt/conda/lib/python3.7/site-packages (from joeynmt==1.2) (46.1.3.post20200325)\n",
      "Requirement already satisfied: six==1.12 in /opt/conda/lib/python3.7/site-packages (from joeynmt==1.2) (1.12.0)\n",
      "Requirement already satisfied: pyasn1<0.5.0,>=0.4.6 in /opt/conda/lib/python3.7/site-packages (from pyasn1-modules>=0.2.1->google-auth<2,>=1.6.3->tensorboard>=1.15->joeynmt==1.2) (0.4.8)\n",
      "Requirement already satisfied: certifi>=2017.4.17 in /opt/conda/lib/python3.7/site-packages (from requests<3,>=2.21.0->tensorboard>=1.15->joeynmt==1.2) (2020.12.5)\n",
      "Requirement already satisfied: chardet<4,>=3.0.2 in /opt/conda/lib/python3.7/site-packages (from requests<3,>=2.21.0->tensorboard>=1.15->joeynmt==1.2) (3.0.4)\n",
      "Requirement already satisfied: urllib3!=1.25.0,!=1.25.1,<1.26,>=1.21.1 in /opt/conda/lib/python3.7/site-packages (from requests<3,>=2.21.0->tensorboard>=1.15->joeynmt==1.2) (1.25.9)\n",
      "Requirement already satisfied: idna<3,>=2.5 in /opt/conda/lib/python3.7/site-packages (from requests<3,>=2.21.0->tensorboard>=1.15->joeynmt==1.2) (2.9)\n",
      "Requirement already satisfied: requests<3,>=2.21.0 in /opt/conda/lib/python3.7/site-packages (from tensorboard>=1.15->joeynmt==1.2) (2.23.0)\n",
      "Requirement already satisfied: oauthlib>=3.0.0 in /opt/conda/lib/python3.7/site-packages (from requests-oauthlib>=0.7.0->google-auth-oauthlib<0.5,>=0.4.1->tensorboard>=1.15->joeynmt==1.2) (3.0.1)\n",
      "Requirement already satisfied: pyasn1<0.5.0,>=0.4.6 in /opt/conda/lib/python3.7/site-packages (from pyasn1-modules>=0.2.1->google-auth<2,>=1.6.3->tensorboard>=1.15->joeynmt==1.2) (0.4.8)\n",
      "Requirement already satisfied: typing-extensions in /opt/conda/lib/python3.7/site-packages (from torch==1.7.1->joeynmt==1.2) (3.7.4.1)\n",
      "Requirement already satisfied: numpy<1.19.0,>=1.14.5 in /opt/conda/lib/python3.7/site-packages (from joeynmt==1.2) (1.18.5)\n",
      "Requirement already satisfied: numpy<1.19.0,>=1.14.5 in /opt/conda/lib/python3.7/site-packages (from joeynmt==1.2) (1.18.5)\n",
      "Requirement already satisfied: torch==1.7.1 in /opt/conda/lib/python3.7/site-packages (from joeynmt==1.2) (1.7.1+cu101)\n",
      "Requirement already satisfied: tqdm in /opt/conda/lib/python3.7/site-packages (from torchtext==0.8.1->joeynmt==1.2) (4.45.0)\n",
      "Requirement already satisfied: requests<3,>=2.21.0 in /opt/conda/lib/python3.7/site-packages (from tensorboard>=1.15->joeynmt==1.2) (2.23.0)\n",
      "Building wheels for collected packages: joeynmt\n",
      "  Building wheel for joeynmt (setup.py) ... \u001b[?25ldone\n",
      "\u001b[?25h  Created wheel for joeynmt: filename=joeynmt-1.2-py3-none-any.whl size=80910 sha256=4b8bb0da84b3720e17c72f7d57f2121905495edae86d95d479e27b328a58d8b0\n",
      "  Stored in directory: /tmp/pip-ephem-wheel-cache-0t3hxllr/wheels/e0/75/f9/2caaffdeb17d5a6178b6cff4d645f41aa925964754c873c0b7\n",
      "Successfully built joeynmt\n",
      "Installing collected packages: joeynmt\n",
      "  Attempting uninstall: joeynmt\n",
      "    Found existing installation: joeynmt 1.2\n",
      "    Uninstalling joeynmt-1.2:\n",
      "      Successfully uninstalled joeynmt-1.2\n",
      "Successfully installed joeynmt-1.2\n",
      "\u001b[33mWARNING: You are using pip version 20.3.1; however, version 20.3.3 is available.\n",
      "You should consider upgrading via the '/opt/conda/bin/python3.7 -m pip install --upgrade pip' command.\u001b[0m\n",
      "Looking in links: https://download.pytorch.org/whl/torch_stable.html\n",
      "Requirement already satisfied: torch==1.7.1+cu101 in /opt/conda/lib/python3.7/site-packages (1.7.1+cu101)\n",
      "Requirement already satisfied: typing-extensions in /opt/conda/lib/python3.7/site-packages (from torch==1.7.1+cu101) (3.7.4.1)\n",
      "Requirement already satisfied: numpy in /opt/conda/lib/python3.7/site-packages (from torch==1.7.1+cu101) (1.18.5)\n",
      "\u001b[33mWARNING: You are using pip version 20.3.1; however, version 20.3.3 is available.\n",
      "You should consider upgrading via the '/opt/conda/bin/python3.7 -m pip install --upgrade pip' command.\u001b[0m\n"
     ]
    }
   ],
   "source": [
    "# Install JoeyNMT\n",
    "! git clone https://github.com/joeynmt/joeynmt.git\n",
    "! cd joeynmt; pip install .\n",
    "# Install Pytorch with GPU support v1.7.1.\n",
    "! pip install torch==1.7.1+cu101 -f https://download.pytorch.org/whl/torch_stable.html"
   ]
  },
  {
   "cell_type": "code",
   "execution_count": 25,
   "metadata": {},
   "outputs": [],
   "source": [
    "import torch"
   ]
  },
  {
   "cell_type": "code",
   "execution_count": 26,
   "metadata": {},
   "outputs": [
    {
     "data": {
      "text/plain": [
       "'1.7.1+cu101'"
      ]
     },
     "execution_count": 26,
     "metadata": {},
     "output_type": "execute_result"
    }
   ],
   "source": [
    "torch.__version__"
   ]
  },
  {
   "cell_type": "code",
   "execution_count": 27,
   "metadata": {},
   "outputs": [
    {
     "data": {
      "text/plain": [
       "True"
      ]
     },
     "execution_count": 27,
     "metadata": {},
     "output_type": "execute_result"
    }
   ],
   "source": [
    "torch.cuda.is_available()"
   ]
  },
  {
   "cell_type": "markdown",
   "metadata": {
    "id": "AaE77Tcppex9"
   },
   "source": [
    "# Preprocessing the Data into Subword BPE Tokens\n",
    "\n",
    "- One of the most powerful improvements for agglutinative languages (a feature of most Bantu languages) is using BPE tokenization [ (Sennrich, 2015) ](https://arxiv.org/abs/1508.07909).\n",
    "\n",
    "- It was also shown that by optimizing the umber of BPE codes we significantly improve results for low-resourced languages [(Sennrich, 2019)](https://www.aclweb.org/anthology/P19-1021) [(Martinus, 2019)](https://arxiv.org/abs/1906.05685)\n",
    "\n",
    "- Below we have the scripts for doing BPE tokenization of our data. We use 4000 tokens as recommended by [(Sennrich, 2019)](https://www.aclweb.org/anthology/P19-1021). You do not need to change anything. Simply running the below will be suitable. "
   ]
  },
  {
   "cell_type": "code",
   "execution_count": 28,
   "metadata": {
    "colab": {
     "base_uri": "https://localhost:8080/",
     "height": 416
    },
    "id": "H-TyjtmXB1mL",
    "outputId": "9867ad89-e5ec-4007-b952-d73a158ff5cf"
   },
   "outputs": [
    {
     "name": "stdout",
     "output_type": "stream",
     "text": [
      "bpe.codes.4000\tdev.sw\t     test.en-any.en    train.bpe.en\n",
      "dev.bpe.en\ttest.bpe.en  test.en-any.en.1  train.bpe.sw\n",
      "dev.bpe.sw\ttest.bpe.sw  test.en-any.en.2  train.en\n",
      "dev.en\t\ttest.en      test.sw\t       train.sw\n",
      "bpe.codes.4000\tdev.sw\t     test.en-any.en    train.bpe.en\n",
      "dev.bpe.en\ttest.bpe.en  test.en-any.en.1  train.bpe.sw\n",
      "dev.bpe.sw\ttest.bpe.sw  test.en-any.en.2  train.en\n",
      "dev.en\t\ttest.en      test.sw\t       train.sw\n",
      "BPE Xhosa Sentences\n",
      "The large shi@@ eld of faith ( See par@@ ag@@ ra@@ ph@@ s 1@@ 2 - 1@@ 4 )\n",
      "The hel@@ me@@ t of sal@@ v@@ ation ( See par@@ ag@@ ra@@ ph@@ s 1@@ 5 - 1@@ 8 )\n",
      "I@@ ’@@ ve found that people resp@@ ond well when they see that you are pas@@ sion@@ ate about the Bible and are doing your best to help them . ”\n",
      "The s@@ word of the spirit ( See par@@ ag@@ ra@@ ph@@ s 1@@ 9 - 2@@ 0 )\n",
      "With Jehovah’s help , we can stand fir@@ m against him !\n",
      "Combined BPE Vocab\n",
      "➌\n",
      "×@@\n",
      "Α@@\n",
      "ז@@\n",
      "Б@@\n",
      "ж@@\n",
      "ю\n",
      "→@@\n",
      "м\n",
      "➋\n"
     ]
    }
   ],
   "source": [
    "# One of the huge boosts in NMT performance was to use a different method of tokenizing. \n",
    "# Usually, NMT would tokenize by words. However, using a method called BPE gave amazing boosts to performance\n",
    "\n",
    "# Do subword NMT\n",
    "from os import path\n",
    "os.environ[\"src\"] = source_language # Sets them in bash as well, since we often use bash scripts\n",
    "os.environ[\"tgt\"] = target_language\n",
    "\n",
    "# Learn BPEs on the training data.\n",
    "os.environ[\"data_path\"] = path.join(\"joeynmt\", \"data\", source_language + target_language) # Herman! \n",
    "! subword-nmt learn-joint-bpe-and-vocab --input train.$src train.$tgt -s 4000 -o bpe.codes.4000 --write-vocabulary vocab.$src vocab.$tgt\n",
    "\n",
    "# Apply BPE splits to the development and test data.\n",
    "! subword-nmt apply-bpe -c bpe.codes.4000 --vocabulary vocab.$src < train.$src > train.bpe.$src\n",
    "! subword-nmt apply-bpe -c bpe.codes.4000 --vocabulary vocab.$tgt < train.$tgt > train.bpe.$tgt\n",
    "\n",
    "! subword-nmt apply-bpe -c bpe.codes.4000 --vocabulary vocab.$src < dev.$src > dev.bpe.$src\n",
    "! subword-nmt apply-bpe -c bpe.codes.4000 --vocabulary vocab.$tgt < dev.$tgt > dev.bpe.$tgt\n",
    "! subword-nmt apply-bpe -c bpe.codes.4000 --vocabulary vocab.$src < test.$src > test.bpe.$src\n",
    "! subword-nmt apply-bpe -c bpe.codes.4000 --vocabulary vocab.$tgt < test.$tgt > test.bpe.$tgt\n",
    "\n",
    "# Create directory, move everyone we care about to the correct location\n",
    "! mkdir -p $data_path\n",
    "! cp train.* $data_path\n",
    "! cp test.* $data_path\n",
    "! cp dev.* $data_path\n",
    "! cp bpe.codes.4000 $data_path\n",
    "! ls $data_path\n",
    "\n",
    "# Also move everything we care about to a mounted location in google drive (relevant if running in colab) at gdrive_path\n",
    "! cp train.* \"$gdrive_path\"\n",
    "! cp test.* \"$gdrive_path\"\n",
    "! cp dev.* \"$gdrive_path\"\n",
    "! cp bpe.codes.4000 \"$gdrive_path\"\n",
    "! ls \"$gdrive_path\"\n",
    "\n",
    "# Create that vocab using build_vocab\n",
    "! chmod 777 joeynmt/scripts/build_vocab.py\n",
    "! joeynmt/scripts/build_vocab.py joeynmt/data/$src$tgt/train.bpe.$src joeynmt/data/$src$tgt/train.bpe.$tgt --output_path joeynmt/data/$src$tgt/vocab.txt\n",
    "\n",
    "# Some output\n",
    "! echo \"BPE Xhosa Sentences\"\n",
    "! tail -n 5 test.bpe.$tgt\n",
    "! echo \"Combined BPE Vocab\"\n",
    "! tail -n 10 joeynmt/data/$src$tgt/vocab.txt  # Herman"
   ]
  },
  {
   "cell_type": "markdown",
   "metadata": {
    "id": "Ixmzi60WsUZ8"
   },
   "source": [
    "# Creating the JoeyNMT Config\n",
    "\n",
    "JoeyNMT requires a yaml config. We provide a template below. We've also set a number of defaults with it, that you may play with!\n",
    "\n",
    "- We used Transformer architecture \n",
    "- We set our dropout to reasonably high: 0.3 (recommended in  [(Sennrich, 2019)](https://www.aclweb.org/anthology/P19-1021))\n",
    "\n",
    "Things worth playing with:\n",
    "- The batch size (also recommended to change for low-resourced languages)\n",
    "- The number of epochs (we've set it at 30 just so it runs in about an hour, for testing purposes)\n",
    "- The decoder options (beam_size, alpha)\n",
    "- Evaluation metrics (BLEU versus Crhf4)"
   ]
  },
  {
   "cell_type": "code",
   "execution_count": 29,
   "metadata": {
    "id": "h8TMgv1p3L1z"
   },
   "outputs": [],
   "source": [
    "# This creates the config file for our JoeyNMT system. It might seem overwhelming so we've provided a couple of useful parameters you'll need to update\n",
    "# (You can of course play with all the parameters if you'd like!)\n",
    "\n",
    "name = '%s%s' % (source_language, target_language)\n",
    "gdrive_path = os.environ[\"gdrive_path\"]\n",
    "\n",
    "# Create the config\n",
    "config = \"\"\"\n",
    "name: \"{name}_transformer\"\n",
    "\n",
    "data:\n",
    "    src: \"{source_language}\"\n",
    "    trg: \"{target_language}\"\n",
    "    train: \"data/{name}/train.bpe\"\n",
    "    dev:   \"data/{name}/dev.bpe\"\n",
    "    test:  \"data/{name}/test.bpe\"\n",
    "    level: \"bpe\"\n",
    "    lowercase: False\n",
    "    max_sent_length: 100\n",
    "    src_vocab: \"data/{name}/vocab.txt\"\n",
    "    trg_vocab: \"data/{name}/vocab.txt\"\n",
    "\n",
    "testing:\n",
    "    beam_size: 5\n",
    "    alpha: 1.0\n",
    "\n",
    "training:\n",
    "    #load_model: \"{gdrive_path}/models/{name}_transformer/1.ckpt\" # if uncommented, load a pre-trained model from this checkpoint\n",
    "    random_seed: 42\n",
    "    optimizer: \"adam\"\n",
    "    normalization: \"tokens\"\n",
    "    adam_betas: [0.9, 0.999] \n",
    "    scheduling: \"plateau\"           # TODO: try switching from plateau to Noam scheduling\n",
    "    patience: 5                     # For plateau: decrease learning rate by decrease_factor if validation score has not improved for this many validation rounds.\n",
    "    learning_rate_factor: 0.5       # factor for Noam scheduler (used with Transformer)\n",
    "    learning_rate_warmup: 1000      # warmup steps for Noam scheduler (used with Transformer)\n",
    "    decrease_factor: 0.7\n",
    "    loss: \"crossentropy\"\n",
    "    learning_rate: 0.0003\n",
    "    learning_rate_min: 0.00000001\n",
    "    weight_decay: 0.0\n",
    "    label_smoothing: 0.1\n",
    "    batch_size: 4096\n",
    "    batch_type: \"token\"\n",
    "    eval_batch_size: 3600\n",
    "    eval_batch_type: \"token\"\n",
    "    batch_multiplier: 1\n",
    "    early_stopping_metric: \"ppl\"\n",
    "    epochs: 30                     # TODO: Decrease for when playing around and checking of working. Around 30 is sufficient to check if its working at all\n",
    "    validation_freq: 1000          # TODO: Set to at least once per epoch.\n",
    "    logging_freq: 100\n",
    "    eval_metric: \"bleu\"\n",
    "    model_dir: \"models/{name}_transformer\"\n",
    "    overwrite: False               # TODO: Set to True if you want to overwrite possibly existing models. \n",
    "    shuffle: True\n",
    "    use_cuda: True\n",
    "    max_output_length: 100\n",
    "    print_valid_sents: [0, 1, 2, 3]\n",
    "    keep_last_ckpts: 3\n",
    "\n",
    "model:\n",
    "    initializer: \"xavier\"\n",
    "    bias_initializer: \"zeros\"\n",
    "    init_gain: 1.0\n",
    "    embed_initializer: \"xavier\"\n",
    "    embed_init_gain: 1.0\n",
    "    tied_embeddings: True\n",
    "    tied_softmax: True\n",
    "    encoder:\n",
    "        type: \"transformer\"\n",
    "        num_layers: 6\n",
    "        num_heads: 4             # TODO: Increase to 8 for larger data.\n",
    "        embeddings:\n",
    "            embedding_dim: 256   # TODO: Increase to 512 for larger data.\n",
    "            scale: True\n",
    "            dropout: 0.2\n",
    "        # typically ff_size = 4 x hidden_size\n",
    "        hidden_size: 256         # TODO: Increase to 512 for larger data.\n",
    "        ff_size: 1024            # TODO: Increase to 2048 for larger data.\n",
    "        dropout: 0.3\n",
    "    decoder:\n",
    "        type: \"transformer\"\n",
    "        num_layers: 6\n",
    "        num_heads: 4              # TODO: Increase to 8 for larger data.\n",
    "        embeddings:\n",
    "            embedding_dim: 256    # TODO: Increase to 512 for larger data.\n",
    "            scale: True\n",
    "            dropout: 0.2\n",
    "        # typically ff_size = 4 x hidden_size\n",
    "        hidden_size: 256         # TODO: Increase to 512 for larger data.\n",
    "        ff_size: 1024            # TODO: Increase to 2048 for larger data.\n",
    "        dropout: 0.3\n",
    "\"\"\".format(name=name, gdrive_path=os.environ[\"gdrive_path\"], source_language=source_language, target_language=target_language)\n",
    "with open(\"joeynmt/configs/transformer_{name}.yaml\".format(name=name),'w') as f:\n",
    "    f.write(config)"
   ]
  },
  {
   "cell_type": "markdown",
   "metadata": {
    "id": "oEzoJtV2MIpt"
   },
   "source": [
    "# Train the Model\n",
    "\n",
    "This single line of joeynmt runs the training using the config we made above"
   ]
  },
  {
   "cell_type": "code",
   "execution_count": 30,
   "metadata": {
    "colab": {
     "base_uri": "https://localhost:8080/",
     "height": 1000
    },
    "id": "WzbNYNdjLgNb",
    "outputId": "cc18bde5-6226-4769-de84-5e5d27a6c5a8"
   },
   "outputs": [
    {
     "name": "stdout",
     "output_type": "stream",
     "text": [
      "2021-01-21 13:36:11,677 - INFO - root - Hello! This is Joey-NMT (version 1.2).\n",
      "/opt/conda/lib/python3.7/site-packages/torchtext/data/field.py:150: UserWarning: Field class will be retired soon and moved to torchtext.legacy. Please see the most recent release notes for further information.\n",
      "  warnings.warn('{} class will be retired soon and moved to torchtext.legacy. Please see the most recent release notes for further information.'.format(self.__class__.__name__), UserWarning)\n",
      "2021-01-21 13:36:11,689 - INFO - joeynmt.data - loading training data...\n",
      "/opt/conda/lib/python3.7/site-packages/torchtext/data/example.py:78: UserWarning: Example class will be retired soon and moved to torchtext.legacy. Please see the most recent release notes for further information.\n",
      "  warnings.warn('Example class will be retired soon and moved to torchtext.legacy. Please see the most recent release notes for further information.', UserWarning)\n",
      "2021-01-21 13:36:29,192 - INFO - joeynmt.data - building vocabulary...\n",
      "2021-01-21 13:36:29,429 - INFO - joeynmt.data - loading dev data...\n",
      "2021-01-21 13:36:29,564 - INFO - joeynmt.data - loading test data...\n",
      "2021-01-21 13:36:29,590 - INFO - joeynmt.data - data loaded.\n",
      "2021-01-21 13:36:30.498469: I tensorflow/stream_executor/platform/default/dso_loader.cc:48] Successfully opened dynamic library libcudart.so.10.2\n",
      "2021-01-21 13:36:30.502435: I tensorflow/stream_executor/platform/default/dso_loader.cc:48] Successfully opened dynamic library libcudart.so.10.2\n",
      "2021-01-21 13:36:31,552 - INFO - joeynmt.training - Total params: 12218368\n",
      "2021-01-21 13:36:35,700 - INFO - joeynmt.helpers - cfg.name                           : swen_transformer\n",
      "2021-01-21 13:36:35,700 - INFO - joeynmt.helpers - cfg.data.src                       : sw\n",
      "2021-01-21 13:36:35,700 - INFO - joeynmt.helpers - cfg.data.trg                       : en\n",
      "2021-01-21 13:36:35,700 - INFO - joeynmt.helpers - cfg.data.train                     : data/swen/train.bpe\n",
      "2021-01-21 13:36:35,700 - INFO - joeynmt.helpers - cfg.data.dev                       : data/swen/dev.bpe\n",
      "2021-01-21 13:36:35,700 - INFO - joeynmt.helpers - cfg.data.test                      : data/swen/test.bpe\n",
      "2021-01-21 13:36:35,700 - INFO - joeynmt.helpers - cfg.data.level                     : bpe\n",
      "2021-01-21 13:36:35,700 - INFO - joeynmt.helpers - cfg.data.lowercase                 : False\n",
      "2021-01-21 13:36:35,700 - INFO - joeynmt.helpers - cfg.data.max_sent_length           : 100\n",
      "2021-01-21 13:36:35,700 - INFO - joeynmt.helpers - cfg.data.src_vocab                 : data/swen/vocab.txt\n",
      "2021-01-21 13:36:35,701 - INFO - joeynmt.helpers - cfg.data.trg_vocab                 : data/swen/vocab.txt\n",
      "2021-01-21 13:36:35,701 - INFO - joeynmt.helpers - cfg.testing.beam_size              : 5\n",
      "2021-01-21 13:36:35,701 - INFO - joeynmt.helpers - cfg.testing.alpha                  : 1.0\n",
      "2021-01-21 13:36:35,701 - INFO - joeynmt.helpers - cfg.training.random_seed           : 42\n",
      "2021-01-21 13:36:35,701 - INFO - joeynmt.helpers - cfg.training.optimizer             : adam\n",
      "2021-01-21 13:36:35,701 - INFO - joeynmt.helpers - cfg.training.normalization         : tokens\n",
      "2021-01-21 13:36:35,701 - INFO - joeynmt.helpers - cfg.training.adam_betas            : [0.9, 0.999]\n",
      "2021-01-21 13:36:35,701 - INFO - joeynmt.helpers - cfg.training.scheduling            : plateau\n",
      "2021-01-21 13:36:35,701 - INFO - joeynmt.helpers - cfg.training.patience              : 5\n",
      "2021-01-21 13:36:35,701 - INFO - joeynmt.helpers - cfg.training.learning_rate_factor  : 0.5\n",
      "2021-01-21 13:36:35,701 - INFO - joeynmt.helpers - cfg.training.learning_rate_warmup  : 1000\n",
      "2021-01-21 13:36:35,701 - INFO - joeynmt.helpers - cfg.training.decrease_factor       : 0.7\n",
      "2021-01-21 13:36:35,701 - INFO - joeynmt.helpers - cfg.training.loss                  : crossentropy\n",
      "2021-01-21 13:36:35,701 - INFO - joeynmt.helpers - cfg.training.learning_rate         : 0.0003\n",
      "2021-01-21 13:36:35,701 - INFO - joeynmt.helpers - cfg.training.learning_rate_min     : 1e-08\n",
      "2021-01-21 13:36:35,701 - INFO - joeynmt.helpers - cfg.training.weight_decay          : 0.0\n",
      "2021-01-21 13:36:35,701 - INFO - joeynmt.helpers - cfg.training.label_smoothing       : 0.1\n",
      "2021-01-21 13:36:35,701 - INFO - joeynmt.helpers - cfg.training.batch_size            : 4096\n",
      "2021-01-21 13:36:35,701 - INFO - joeynmt.helpers - cfg.training.batch_type            : token\n",
      "2021-01-21 13:36:35,701 - INFO - joeynmt.helpers - cfg.training.eval_batch_size       : 3600\n",
      "2021-01-21 13:36:35,701 - INFO - joeynmt.helpers - cfg.training.eval_batch_type       : token\n",
      "2021-01-21 13:36:35,701 - INFO - joeynmt.helpers - cfg.training.batch_multiplier      : 1\n",
      "2021-01-21 13:36:35,701 - INFO - joeynmt.helpers - cfg.training.early_stopping_metric : ppl\n",
      "2021-01-21 13:36:35,701 - INFO - joeynmt.helpers - cfg.training.epochs                : 30\n",
      "2021-01-21 13:36:35,701 - INFO - joeynmt.helpers - cfg.training.validation_freq       : 1000\n",
      "2021-01-21 13:36:35,701 - INFO - joeynmt.helpers - cfg.training.logging_freq          : 100\n",
      "2021-01-21 13:36:35,701 - INFO - joeynmt.helpers - cfg.training.eval_metric           : bleu\n",
      "2021-01-21 13:36:35,702 - INFO - joeynmt.helpers - cfg.training.model_dir             : models/swen_transformer\n",
      "2021-01-21 13:36:35,702 - INFO - joeynmt.helpers - cfg.training.overwrite             : False\n",
      "2021-01-21 13:36:35,702 - INFO - joeynmt.helpers - cfg.training.shuffle               : True\n",
      "2021-01-21 13:36:35,702 - INFO - joeynmt.helpers - cfg.training.use_cuda              : True\n",
      "2021-01-21 13:36:35,702 - INFO - joeynmt.helpers - cfg.training.max_output_length     : 100\n",
      "2021-01-21 13:36:35,702 - INFO - joeynmt.helpers - cfg.training.print_valid_sents     : [0, 1, 2, 3]\n",
      "2021-01-21 13:36:35,702 - INFO - joeynmt.helpers - cfg.training.keep_last_ckpts       : 3\n",
      "2021-01-21 13:36:35,702 - INFO - joeynmt.helpers - cfg.model.initializer              : xavier\n",
      "2021-01-21 13:36:35,702 - INFO - joeynmt.helpers - cfg.model.bias_initializer         : zeros\n",
      "2021-01-21 13:36:35,702 - INFO - joeynmt.helpers - cfg.model.init_gain                : 1.0\n",
      "2021-01-21 13:36:35,702 - INFO - joeynmt.helpers - cfg.model.embed_initializer        : xavier\n",
      "2021-01-21 13:36:35,702 - INFO - joeynmt.helpers - cfg.model.embed_init_gain          : 1.0\n",
      "2021-01-21 13:36:35,702 - INFO - joeynmt.helpers - cfg.model.tied_embeddings          : True\n",
      "2021-01-21 13:36:35,702 - INFO - joeynmt.helpers - cfg.model.tied_softmax             : True\n",
      "2021-01-21 13:36:35,702 - INFO - joeynmt.helpers - cfg.model.encoder.type             : transformer\n",
      "2021-01-21 13:36:35,702 - INFO - joeynmt.helpers - cfg.model.encoder.num_layers       : 6\n",
      "2021-01-21 13:36:35,702 - INFO - joeynmt.helpers - cfg.model.encoder.num_heads        : 4\n",
      "2021-01-21 13:36:35,702 - INFO - joeynmt.helpers - cfg.model.encoder.embeddings.embedding_dim : 256\n",
      "2021-01-21 13:36:35,702 - INFO - joeynmt.helpers - cfg.model.encoder.embeddings.scale : True\n",
      "2021-01-21 13:36:35,702 - INFO - joeynmt.helpers - cfg.model.encoder.embeddings.dropout : 0.2\n",
      "2021-01-21 13:36:35,702 - INFO - joeynmt.helpers - cfg.model.encoder.hidden_size      : 256\n",
      "2021-01-21 13:36:35,702 - INFO - joeynmt.helpers - cfg.model.encoder.ff_size          : 1024\n",
      "2021-01-21 13:36:35,702 - INFO - joeynmt.helpers - cfg.model.encoder.dropout          : 0.3\n",
      "2021-01-21 13:36:35,702 - INFO - joeynmt.helpers - cfg.model.decoder.type             : transformer\n",
      "2021-01-21 13:36:35,702 - INFO - joeynmt.helpers - cfg.model.decoder.num_layers       : 6\n",
      "2021-01-21 13:36:35,702 - INFO - joeynmt.helpers - cfg.model.decoder.num_heads        : 4\n",
      "2021-01-21 13:36:35,702 - INFO - joeynmt.helpers - cfg.model.decoder.embeddings.embedding_dim : 256\n",
      "2021-01-21 13:36:35,702 - INFO - joeynmt.helpers - cfg.model.decoder.embeddings.scale : True\n",
      "2021-01-21 13:36:35,703 - INFO - joeynmt.helpers - cfg.model.decoder.embeddings.dropout : 0.2\n",
      "2021-01-21 13:36:35,703 - INFO - joeynmt.helpers - cfg.model.decoder.hidden_size      : 256\n",
      "2021-01-21 13:36:35,703 - INFO - joeynmt.helpers - cfg.model.decoder.ff_size          : 1024\n",
      "2021-01-21 13:36:35,703 - INFO - joeynmt.helpers - cfg.model.decoder.dropout          : 0.3\n",
      "2021-01-21 13:36:35,703 - INFO - joeynmt.helpers - Data set sizes: \n",
      "\ttrain 915606,\n",
      "\tvalid 1000,\n",
      "\ttest 2721\n",
      "2021-01-21 13:36:35,703 - INFO - joeynmt.helpers - First training example:\n",
      "\t[SRC] [ Maelezo ya Chini ]\n",
      "\t[TRG] [ Footno@@ te ]\n",
      "2021-01-21 13:36:35,703 - INFO - joeynmt.helpers - First 10 words (src): (0) <unk> (1) <pad> (2) <s> (3) </s> (4) , (5) the (6) na (7) ya (8) to (9) of\n",
      "2021-01-21 13:36:35,703 - INFO - joeynmt.helpers - First 10 words (trg): (0) <unk> (1) <pad> (2) <s> (3) </s> (4) , (5) the (6) na (7) ya (8) to (9) of\n",
      "2021-01-21 13:36:35,703 - INFO - joeynmt.helpers - Number of Src words (types): 4524\n",
      "2021-01-21 13:36:35,703 - INFO - joeynmt.helpers - Number of Trg words (types): 4524\n",
      "2021-01-21 13:36:35,703 - INFO - joeynmt.training - Model(\n",
      "\tencoder=TransformerEncoder(num_layers=6, num_heads=4),\n",
      "\tdecoder=TransformerDecoder(num_layers=6, num_heads=4),\n",
      "\tsrc_embed=Embeddings(embedding_dim=256, vocab_size=4524),\n",
      "\ttrg_embed=Embeddings(embedding_dim=256, vocab_size=4524))\n",
      "/opt/conda/lib/python3.7/site-packages/torchtext/data/iterator.py:48: UserWarning: BucketIterator class will be retired soon and moved to torchtext.legacy. Please see the most recent release notes for further information.\n",
      "  warnings.warn('{} class will be retired soon and moved to torchtext.legacy. Please see the most recent release notes for further information.'.format(self.__class__.__name__), UserWarning)\n",
      "2021-01-21 13:36:35,706 - INFO - joeynmt.training - Train stats:\n",
      "\tdevice: cuda\n",
      "\tn_gpu: 1\n",
      "\t16-bits training: False\n",
      "\tgradient accumulation: 1\n",
      "\tbatch size per device: 4096\n",
      "\ttotal batch size (w. parallel & accumulation): 4096\n",
      "2021-01-21 13:36:35,707 - INFO - joeynmt.training - EPOCH 1\n",
      "/opt/conda/lib/python3.7/site-packages/torchtext/data/batch.py:23: UserWarning: Batch class will be retired soon and moved to torchtext.legacy. Please see the most recent release notes for further information.\n",
      "  warnings.warn('{} class will be retired soon and moved to torchtext.legacy. Please see the most recent release notes for further information.'.format(self.__class__.__name__), UserWarning)\n",
      "2021-01-21 13:36:47,530 - INFO - joeynmt.training - Epoch   1, Step:      100, Batch Loss:     5.821930, Tokens per Sec:    20668, Lr: 0.000300\n",
      "2021-01-21 13:36:57,954 - INFO - joeynmt.training - Epoch   1, Step:      200, Batch Loss:     5.654761, Tokens per Sec:    22909, Lr: 0.000300\n",
      "2021-01-21 13:37:08,332 - INFO - joeynmt.training - Epoch   1, Step:      300, Batch Loss:     5.721992, Tokens per Sec:    23262, Lr: 0.000300\n",
      "2021-01-21 13:37:18,606 - INFO - joeynmt.training - Epoch   1, Step:      400, Batch Loss:     5.437989, Tokens per Sec:    23890, Lr: 0.000300\n",
      "2021-01-21 13:37:28,939 - INFO - joeynmt.training - Epoch   1, Step:      500, Batch Loss:     5.259721, Tokens per Sec:    23383, Lr: 0.000300\n",
      "2021-01-21 13:37:39,291 - INFO - joeynmt.training - Epoch   1, Step:      600, Batch Loss:     5.099885, Tokens per Sec:    23278, Lr: 0.000300\n",
      "2021-01-21 13:37:49,708 - INFO - joeynmt.training - Epoch   1, Step:      700, Batch Loss:     4.965679, Tokens per Sec:    23545, Lr: 0.000300\n",
      "2021-01-21 13:38:00,130 - INFO - joeynmt.training - Epoch   1, Step:      800, Batch Loss:     4.849639, Tokens per Sec:    23536, Lr: 0.000300\n",
      "2021-01-21 13:38:10,391 - INFO - joeynmt.training - Epoch   1, Step:      900, Batch Loss:     3.681918, Tokens per Sec:    23777, Lr: 0.000300\n",
      "2021-01-21 13:38:20,754 - INFO - joeynmt.training - Epoch   1, Step:     1000, Batch Loss:     4.452794, Tokens per Sec:    23282, Lr: 0.000300\n",
      "Traceback (most recent call last):\n",
      "  File \"/opt/conda/lib/python3.7/runpy.py\", line 193, in _run_module_as_main\n",
      "    \"__main__\", mod_spec)\n",
      "  File \"/opt/conda/lib/python3.7/runpy.py\", line 85, in _run_code\n",
      "    exec(code, run_globals)\n",
      "  File \"/workspace/masakhane-mt/joeynmt/joeynmt/__main__.py\", line 41, in <module>\n",
      "    main()\n",
      "  File \"/workspace/masakhane-mt/joeynmt/joeynmt/__main__.py\", line 29, in main\n",
      "    train(cfg_file=args.config_path)\n",
      "  File \"/workspace/masakhane-mt/joeynmt/joeynmt/training.py\", line 748, in train\n",
      "    trainer.train_and_validate(train_data=train_data, valid_data=dev_data)\n",
      "  File \"/workspace/masakhane-mt/joeynmt/joeynmt/training.py\", line 431, in train_and_validate\n",
      "    valid_duration = self._validate(valid_data, epoch_no)\n",
      "  File \"/workspace/masakhane-mt/joeynmt/joeynmt/training.py\", line 521, in _validate\n",
      "    n_gpu=self.n_gpu\n",
      "  File \"/workspace/masakhane-mt/joeynmt/joeynmt/prediction.py\", line 110, in validate_on_data\n",
      "    batch_loss, _, _, _ = model(return_type=\"loss\", **vars(batch))\n",
      "  File \"/opt/conda/lib/python3.7/site-packages/torch/nn/modules/module.py\", line 727, in _call_impl\n",
      "    result = self.forward(*input, **kwargs)\n",
      "  File \"/workspace/masakhane-mt/joeynmt/joeynmt/model.py\", line 82, in forward\n",
      "    out, _, _, _ = self._encode_decode(**kwargs)\n",
      "  File \"/workspace/masakhane-mt/joeynmt/joeynmt/model.py\", line 134, in _encode_decode\n",
      "    trg_mask=trg_mask, **kwargs)\n",
      "  File \"/workspace/masakhane-mt/joeynmt/joeynmt/model.py\", line 175, in _decode\n",
      "    **_kwargs)\n",
      "  File \"/opt/conda/lib/python3.7/site-packages/torch/nn/modules/module.py\", line 727, in _call_impl\n",
      "    result = self.forward(*input, **kwargs)\n",
      "  File \"/workspace/masakhane-mt/joeynmt/joeynmt/decoders.py\", line 532, in forward\n",
      "    x = self.pe(trg_embed)  # add position encoding to word embedding\n",
      "  File \"/opt/conda/lib/python3.7/site-packages/torch/nn/modules/module.py\", line 727, in _call_impl\n",
      "    result = self.forward(*input, **kwargs)\n",
      "  File \"/workspace/masakhane-mt/joeynmt/joeynmt/transformer_layers.py\", line 159, in forward\n",
      "    return emb + self.pe[:, :emb.size(1)]\n",
      "RuntimeError: The size of tensor a (7204) must match the size of tensor b (5000) at non-singleton dimension 1\n"
     ]
    }
   ],
   "source": [
    "# Train the model\n",
    "# You can press Ctrl-C to stop. And then run the next cell to save your checkpoints! \n",
    "!cd joeynmt; python3 -m joeynmt train configs/transformer_$src$tgt.yaml"
   ]
  },
  {
   "cell_type": "code",
   "execution_count": null,
   "metadata": {
    "id": "MBoDS09JM807"
   },
   "outputs": [],
   "source": [
    "# Copy the created models from the notebook storage to google drive for persistant storage \n",
    "!cp -r joeynmt/models/${tgt}${src}_reverse_transformer/* \"$gdrive_path/models/${src}${tgt}_reverse_transformer/\""
   ]
  },
  {
   "cell_type": "code",
   "execution_count": 31,
   "metadata": {},
   "outputs": [],
   "source": [
    "import torchtext"
   ]
  },
  {
   "cell_type": "code",
   "execution_count": null,
   "metadata": {
    "id": "n94wlrCjVc17"
   },
   "outputs": [],
   "source": [
    "# Output our validation accuracy\n",
    "! cat \"$gdrive_path/models/${src}${tgt}_transformer/validations.txt\""
   ]
  },
  {
   "cell_type": "code",
   "execution_count": 32,
   "metadata": {},
   "outputs": [
    {
     "data": {
      "text/plain": [
       "'0.8.1'"
      ]
     },
     "execution_count": 32,
     "metadata": {},
     "output_type": "execute_result"
    }
   ],
   "source": [
    "torchtext.__version__"
   ]
  },
  {
   "cell_type": "code",
   "execution_count": null,
   "metadata": {
    "id": "66WhRE9lIhoD"
   },
   "outputs": [],
   "source": [
    "# Test our model\n",
    "! cd joeynmt; python3 -m joeynmt test \"$gdrive_path/models/${src}${tgt}_transformer/config.yaml\""
   ]
  }
 ],
 "metadata": {
  "accelerator": "GPU",
  "colab": {
   "collapsed_sections": [],
   "name": "starter_notebook_reverse_training.ipynb",
   "provenance": []
  },
  "kernelspec": {
   "display_name": "Python 3",
   "language": "python",
   "name": "python3"
  },
  "language_info": {
   "codemirror_mode": {
    "name": "ipython",
    "version": 3
   },
   "file_extension": ".py",
   "mimetype": "text/x-python",
   "name": "python",
   "nbconvert_exporter": "python",
   "pygments_lexer": "ipython3",
   "version": "3.7.6"
  }
 },
 "nbformat": 4,
 "nbformat_minor": 4
}
